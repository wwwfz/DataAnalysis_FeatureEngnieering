{
 "cells": [
  {
   "cell_type": "code",
   "execution_count": 1,
   "metadata": {},
   "outputs": [],
   "source": [
    "# 基础包\n",
    "import pandas as pd\n",
    "pd.options.display.max_columns = None\n",
    "pd.options.display.max_rows = None\n",
    "import numpy as np\n",
    "import os\n",
    "#import pandas_profiling as pdp\n",
    "import matplotlib.pyplot as plt\n",
    "import seaborn as sns\n",
    "import time\n",
    "import random\n",
    "import warnings\n",
    "warnings.filterwarnings(\"ignore\")\n",
    "plt.rcParams['font.sans-serif']=['SimHei'] #用来正常显示中文标签\n",
    "plt.rcParams['axes.unicode_minus']=False #用来正常显示负号\n",
    "%matplotlib inline  \n",
    "\n",
    "# xgb\n",
    "import xgboost as xgb\n",
    "from xgboost import XGBClassifier\n",
    "from xgboost import plot_importance\n",
    "import imblearn\n",
    "from imblearn.combine import SMOTEENN\n",
    "from xgboost import plot_importance\n",
    "# sklearn\n",
    "from sklearn.model_selection import StratifiedShuffleSplit\n",
    "from sklearn import metrics\n",
    "# 自函数包\n",
    "import function_use as fu"
   ]
  },
  {
   "cell_type": "code",
   "execution_count": 1,
   "metadata": {},
   "outputs": [],
   "source": [
    "# 绝对路径\n",
    "# data_path = ''\n",
    "# 相对路径\n",
    "# data_path = os.getcwd()\n",
    "# engine ： {'c'，'python'}，可选，使用解析器引擎。C引擎速度更快，而python引擎目前功能更加完善;python会慢\n",
    "# train_data = pd.read_csv(os.path.join(data_path,'train.csv'),engine = 'python')\n",
    "# train_target = pd.read_csv(os.path.join(data_path,'train_target.csv'),engine = 'python')\n",
    "# test_data = pd.read_csv(os.path.join(data_path,'test.csv'),engine = 'python')\n",
    "# train_target_raw = pd.merge(train_raw,train_target, how='left', on=['id'])"
   ]
  },
  {
   "cell_type": "code",
   "execution_count": 2,
   "metadata": {},
   "outputs": [],
   "source": [
    "# 绝对路径\n",
    "data_path = '.../数据'\n",
    "# 相对路径\n",
    "# data_path = os.getcwd()\n",
    "file_name = 'test.csv'\n",
    "file_name = os.path.join(data_path,file_name)\n",
    "with open(file_name,'r',encoding='utf-8') as f:\n",
    "    test_raw = pd.read_csv(f)\n",
    "file_name = 'train.csv'\n",
    "file_name = os.path.join(data_path,file_name)\n",
    "with open(file_name,'r',encoding='utf-8') as f:\n",
    "    train_raw = pd.read_csv(f)\n",
    "file_name = 'train_target.csv'\n",
    "file_name = os.path.join(data_path,file_name)\n",
    "with open(file_name,'r',encoding='utf-8') as f:\n",
    "    train_target = pd.read_csv(f)\n",
    "train_target_raw = pd.merge(train_raw,train_target, how='left', on=['id'])"
   ]
  },
  {
   "cell_type": "markdown",
   "metadata": {},
   "source": [
    "# 0.数据清洗[缺失值,离群值]"
   ]
  },
  {
   "cell_type": "markdown",
   "metadata": {},
   "source": [
    "#### 检查nan，-999\n",
    "- 本数据使用-999代表nan\n",
    "- 旧数据bankCard用nan表示缺失，新数据isnew=1用-999表示缺失\n",
    "- nan换做-999后线下降分"
   ]
  },
  {
   "cell_type": "code",
   "execution_count": 6,
   "metadata": {},
   "outputs": [
    {
     "data": {
      "text/html": [
       "<div>\n",
       "<style scoped>\n",
       "    .dataframe tbody tr th:only-of-type {\n",
       "        vertical-align: middle;\n",
       "    }\n",
       "\n",
       "    .dataframe tbody tr th {\n",
       "        vertical-align: top;\n",
       "    }\n",
       "\n",
       "    .dataframe thead th {\n",
       "        text-align: right;\n",
       "    }\n",
       "</style>\n",
       "<table border=\"1\" class=\"dataframe\">\n",
       "  <thead>\n",
       "    <tr style=\"text-align: right;\">\n",
       "      <th></th>\n",
       "      <th>0</th>\n",
       "    </tr>\n",
       "  </thead>\n",
       "  <tbody>\n",
       "    <tr>\n",
       "      <th>bankCard</th>\n",
       "      <td>20152</td>\n",
       "    </tr>\n",
       "    <tr>\n",
       "      <th>x_67</th>\n",
       "      <td>0</td>\n",
       "    </tr>\n",
       "    <tr>\n",
       "      <th>x_65</th>\n",
       "      <td>0</td>\n",
       "    </tr>\n",
       "  </tbody>\n",
       "</table>\n",
       "</div>"
      ],
      "text/plain": [
       "              0\n",
       "bankCard  20152\n",
       "x_67          0\n",
       "x_65          0"
      ]
     },
     "execution_count": 6,
     "metadata": {},
     "output_type": "execute_result"
    }
   ],
   "source": [
    "train_have_nan = (pd.isnull(train_raw)==1).sum().to_frame()\n",
    "train_have_nan.sort_values(by=0,inplace=True,ascending=0)\n",
    "test_have_nan = (pd.isnull(test_raw)==1).sum().to_frame()\n",
    "test_have_nan.sort_values(by=0,inplace=True,ascending=0)\n",
    "train_have_nan.head(3)"
   ]
  },
  {
   "cell_type": "code",
   "execution_count": 7,
   "metadata": {},
   "outputs": [],
   "source": [
    "# 统一nan\n",
    "train_raw.loc[:,'bankCard'][pd.isnull(train_raw.loc[:,'bankCard'])==1] = -888"
   ]
  },
  {
   "cell_type": "code",
   "execution_count": 8,
   "metadata": {},
   "outputs": [
    {
     "data": {
      "text/html": [
       "<div>\n",
       "<style scoped>\n",
       "    .dataframe tbody tr th:only-of-type {\n",
       "        vertical-align: middle;\n",
       "    }\n",
       "\n",
       "    .dataframe tbody tr th {\n",
       "        vertical-align: top;\n",
       "    }\n",
       "\n",
       "    .dataframe thead th {\n",
       "        text-align: right;\n",
       "    }\n",
       "</style>\n",
       "<table border=\"1\" class=\"dataframe\">\n",
       "  <thead>\n",
       "    <tr style=\"text-align: right;\">\n",
       "      <th></th>\n",
       "      <th>0</th>\n",
       "    </tr>\n",
       "  </thead>\n",
       "  <tbody>\n",
       "    <tr>\n",
       "      <th>id</th>\n",
       "      <td>0</td>\n",
       "    </tr>\n",
       "    <tr>\n",
       "      <th>certId</th>\n",
       "      <td>0</td>\n",
       "    </tr>\n",
       "    <tr>\n",
       "      <th>x_66</th>\n",
       "      <td>0</td>\n",
       "    </tr>\n",
       "  </tbody>\n",
       "</table>\n",
       "</div>"
      ],
      "text/plain": [
       "        0\n",
       "id      0\n",
       "certId  0\n",
       "x_66    0"
      ]
     },
     "execution_count": 8,
     "metadata": {},
     "output_type": "execute_result"
    }
   ],
   "source": [
    "train_have_nan = (pd.isnull(train_raw)==1).sum().to_frame()\n",
    "train_have_nan.sort_values(by=0,inplace=True,ascending=0)\n",
    "test_have_nan = (pd.isnull(test_raw)==1).sum().to_frame()\n",
    "test_have_nan.sort_values(by=0,inplace=True,ascending=0)\n",
    "train_have_nan.head(3)"
   ]
  },
  {
   "cell_type": "markdown",
   "metadata": {},
   "source": [
    "#### 原始列分组"
   ]
  },
  {
   "cell_type": "code",
   "execution_count": 3,
   "metadata": {},
   "outputs": [],
   "source": [
    "# 几个互斥分组\n",
    "user_inf = ['id','gender','age','edu','highestEdu','ethnic','residentAddr','dist','job',\n",
    "            'certId', 'certValidBegin', 'certValidStop']\n",
    "loan_inf = ['bankCard','loanProduct','lmt','basicLevel','linkRela', 'setupHour', 'weekday','isNew']\n",
    "loan_history_inf = ['ncloseCreditCard', 'unpayIndvLoan', 'unpayOtherLoan','unpayNormalLoan', '5yearBadloan']\n",
    "x_inf = [f'x_{i}' for i in range(79)]\n",
    "col_names_raw = user_inf + loan_inf + loan_history_inf + x_inf\n",
    "train_raw = train_raw[col_names_raw]\n",
    "test_raw = test_raw[col_names_raw]"
   ]
  },
  {
   "cell_type": "markdown",
   "metadata": {},
   "source": [
    "#### 0.0 删除完全一样的列\n",
    "- 通过corr()看出有不少变量相关系数是1，然后删除这些相同的列\n",
    "- train有30个可以删除的，test有32个可以删除的，test多出来的两个不可以删除，删除后线上分数从0.77降到0.74，只删除train的30个和原始数据结果无差异\n",
    "- 和之前只考虑x_比较多删除了41,43,45,61 , 这几个变量都是和loan_history_inf中的四个一模一样\n",
    "    - 分别代表unpayNormalLoan,unpayIndvLoan,unpayOtherLoan,ncloseCreditCard"
   ]
  },
  {
   "cell_type": "code",
   "execution_count": 4,
   "metadata": {},
   "outputs": [
    {
     "name": "stdout",
     "output_type": "stream",
     "text": [
      "train 可删除的数目: 34\n",
      "test 可删除的数目: 36\n",
      "test多两个可删除变量: {'x_39', 'x_32'}\n"
     ]
    }
   ],
   "source": [
    "col_names = col_names_raw.copy()\n",
    "del_train_col = []\n",
    "for i,item_i in enumerate(col_names[:-1]):\n",
    "    for j,item_j in enumerate(col_names[(i+1):]):\n",
    "        if item_j not in del_train_col:\n",
    "            sum_ = (train_raw[item_i] - train_raw[item_j]).sum()\n",
    "            if sum_ == 0:\n",
    "                del_train_col.append(item_j)\n",
    "del_test_col = []\n",
    "for i,item_i in enumerate(col_names[:-1]):\n",
    "    for j,item_j in enumerate(col_names[(i+1):]):\n",
    "        if item_j not in del_test_col:\n",
    "            sum_ = (test_raw[item_i] - test_raw[item_j]).sum()\n",
    "            if sum_ == 0:\n",
    "                del_test_col.append(item_j)\n",
    "del_train_col = list(set(del_train_col))\n",
    "del_test_col = list(set(del_test_col))\n",
    "print('train 可删除的数目:',len(del_train_col))\n",
    "print('test 可删除的数目:',len(del_test_col))\n",
    "print('test多两个可删除变量:',set(del_test_col) - set(del_train_col))\n",
    "train_raw.drop(del_train_col,axis=1,inplace=True)\n",
    "test_raw.drop(del_train_col,axis=1,inplace=True)"
   ]
  },
  {
   "cell_type": "code",
   "execution_count": 5,
   "metadata": {},
   "outputs": [
    {
     "data": {
      "text/plain": [
       "Index(['id', 'gender', 'age', 'edu', 'highestEdu', 'ethnic', 'residentAddr',\n",
       "       'dist', 'job', 'certId', 'certValidBegin', 'certValidStop', 'bankCard',\n",
       "       'loanProduct', 'lmt', 'basicLevel', 'linkRela', 'setupHour', 'weekday',\n",
       "       'isNew', 'ncloseCreditCard', 'unpayIndvLoan', 'unpayOtherLoan',\n",
       "       'unpayNormalLoan', '5yearBadloan', 'x_0', 'x_12', 'x_14', 'x_16',\n",
       "       'x_20', 'x_22', 'x_25', 'x_26', 'x_27', 'x_28', 'x_29', 'x_30', 'x_31',\n",
       "       'x_32', 'x_33', 'x_34', 'x_35', 'x_39', 'x_42', 'x_44', 'x_46', 'x_47',\n",
       "       'x_48', 'x_49', 'x_50', 'x_51', 'x_52', 'x_53', 'x_54', 'x_55', 'x_56',\n",
       "       'x_62', 'x_63', 'x_64', 'x_65', 'x_66', 'x_67', 'x_68', 'x_69', 'x_71',\n",
       "       'x_72', 'x_73', 'x_74', 'x_75', 'x_76'],\n",
       "      dtype='object')"
      ]
     },
     "execution_count": 5,
     "metadata": {},
     "output_type": "execute_result"
    }
   ],
   "source": [
    "train_raw.columns"
   ]
  },
  {
   "cell_type": "markdown",
   "metadata": {},
   "source": [
    "### 0-1变量的衍生变量"
   ]
  },
  {
   "cell_type": "code",
   "execution_count": 6,
   "metadata": {},
   "outputs": [],
   "source": [
    "# x类变量有几个是1\n",
    "use_col = list(set([f'x_{i}' for i in range(79)]) - set(del_train_col))\n",
    "train_raw['x_sum'] = train_raw[use_col].sum(axis=1)\n",
    "test_raw['x_sum'] = test_raw[use_col].sum(axis=1)\n",
    "# x类变量有几个是nan(-999)\n",
    "train_raw['x_nan_num'] = np.array((train_raw[use_col]<0).sum(axis=1)) + np.array((pd.isnull(train_raw[use_col])==1).sum(axis=1))\n",
    "test_raw['x_nan_num'] = np.array((test_raw[use_col]<0).sum(axis=1)) + np.array((pd.isnull(test_raw[use_col])==1).sum(axis=1))\n",
    "# loan_history变量有几个是1\n",
    "use_col = loan_history_inf\n",
    "train_raw['loan_history_sum'] = train_raw[use_col].sum(axis=1)\n",
    "test_raw['loan_history_sum'] = test_raw[use_col].sum(axis=1)\n",
    "# loan_history变量有几个是nan(-999)\n",
    "train_raw['loan_history_nan_num'] = np.array((train_raw[use_col]<0).sum(axis=1)) + np.array((pd.isnull(train_raw[use_col])==1).sum(axis=1))\n",
    "test_raw['loan_history_nan_num'] = np.array((test_raw[use_col]<0).sum(axis=1)) + np.array((pd.isnull(test_raw[use_col])==1).sum(axis=1))"
   ]
  },
  {
   "cell_type": "code",
   "execution_count": 7,
   "metadata": {},
   "outputs": [],
   "source": [
    "train_raw['x_sum'] = train_raw['x_sum'] + train_raw['loan_history_sum']\n",
    "test_raw['x_sum'] = test_raw['x_sum'] + test_raw['loan_history_sum']\n",
    "train_raw['x_nan_num'] = train_raw['x_nan_num'] + train_raw['loan_history_nan_num']\n",
    "test_raw['x_nan_num'] = test_raw['x_nan_num'] + test_raw['loan_history_nan_num']\n",
    "train_raw.drop(columns=['loan_history_nan_num'],inplace=True)\n",
    "test_raw.drop(columns=['loan_history_nan_num'],inplace=True)\n",
    "train_raw.drop(columns=['loan_history_sum'],inplace=True)\n",
    "test_raw.drop(columns=['loan_history_sum'],inplace=True)"
   ]
  },
  {
   "cell_type": "markdown",
   "metadata": {},
   "source": [
    "#### 0.1 按照列求缺失率"
   ]
  },
  {
   "cell_type": "code",
   "execution_count": 8,
   "metadata": {},
   "outputs": [
    {
     "data": {
      "image/png": "[encoded data removed]",
      "text/plain": [
       "<Figure size 1440x144 with 1 Axes>"
      ]
     },
     "metadata": {
      "needs_background": "light"
     },
     "output_type": "display_data"
    },
    {
     "data": {
      "image/png": "[encoded data removed]",
      "text/plain": [
       "<Figure size 1440x144 with 1 Axes>"
      ]
     },
     "metadata": {
      "needs_background": "light"
     },
     "output_type": "display_data"
    }
   ],
   "source": [
    "# 按列求-999的比例\n",
    "train_col_nan_percent = (train_raw==-999).sum(axis=0) / train_raw.shape[0]\n",
    "train_col_nan_percent = train_col_nan_percent.to_frame()\n",
    "train_col_nan_percent.sort_values(by=0,ascending=False,inplace=True)\n",
    "test_col_nan_percent = (test_raw==-999).sum(axis=0) / test_raw.shape[0]\n",
    "test_col_nan_percent = test_col_nan_percent.to_frame()\n",
    "test_col_nan_percent.sort_values(by=0,ascending=False,inplace=True)\n",
    "# 列缺失值比例的柱状图，训练和测试集有差异\n",
    "fu.plot_bar(train_col_nan_percent,by_col=0,num=20)\n",
    "fu.plot_bar(test_col_nan_percent,by_col=0,num=20)"
   ]
  },
  {
   "cell_type": "markdown",
   "metadata": {},
   "source": [
    "#### 0.2 按照行求缺失值数量  \n",
    "- 原数据总共104个字段，最大缺失行87个缺失，即有17个是必填项目\n",
    "- 删除34个字段，剩70个，最大缺失行53个，意料之中，因为删除的30个是重复的，17个必填"
   ]
  },
  {
   "cell_type": "code",
   "execution_count": 9,
   "metadata": {},
   "outputs": [
    {
     "data": {
      "image/png": "[encoded data removed]",
      "text/plain": [
       "<Figure size 2000x300 with 1 Axes>"
      ]
     },
     "metadata": {
      "needs_background": "light"
     },
     "output_type": "display_data"
    },
    {
     "data": {
      "image/png": "[encoded data removed]",
      "text/plain": [
       "<Figure size 2000x300 with 1 Axes>"
      ]
     },
     "metadata": {
      "needs_background": "light"
     },
     "output_type": "display_data"
    }
   ],
   "source": [
    "# 按列求-999的数量\n",
    "train_raw_nan = (train_raw==-999).sum(axis=1).to_frame()\n",
    "train_raw_nan.sort_values(by=0,ascending=True,inplace=True)\n",
    "train_raw_nan.index = range(train_raw_nan.shape[0])\n",
    "test_raw_nan = (test_raw==-999).sum(axis=1).to_frame()\n",
    "test_raw_nan.sort_values(by=0,ascending=True,inplace=True)\n",
    "test_raw_nan.index = range(test_raw_nan.shape[0])\n",
    "# 升序后画折线图\n",
    "fu.plot_line(train_raw_nan,columns_=[0],legend_=['train'],title_='')\n",
    "fu.plot_line(test_raw_nan,columns_=[0],legend_=['test'],title_='')"
   ]
  },
  {
   "cell_type": "code",
   "execution_count": 10,
   "metadata": {},
   "outputs": [
    {
     "data": {
      "image/png": "[encoded data removed]",
      "text/plain": [
       "<Figure size 1440x144 with 1 Axes>"
      ]
     },
     "metadata": {
      "needs_background": "light"
     },
     "output_type": "display_data"
    },
    {
     "data": {
      "image/png": "[encoded data removed]",
      "text/plain": [
       "<Figure size 1440x144 with 1 Axes>"
      ]
     },
     "metadata": {
      "needs_background": "light"
     },
     "output_type": "display_data"
    }
   ],
   "source": [
    "# 行缺失值比例的柱状图，训练和测试集有差异\n",
    "train_raw_nan_percent = (train_raw_nan[0].value_counts()/train_raw.shape[0]).to_frame()\n",
    "train_raw_nan_percent.sort_index(inplace=True)\n",
    "test_raw_nan_percent = (test_raw_nan[0].value_counts()/test_raw_nan.shape[0]).to_frame()\n",
    "test_raw_nan_percent.sort_index(inplace=True)\n",
    "fu.plot_bar(train_raw_nan_percent,by_col=0,num=20)\n",
    "fu.plot_bar(test_raw_nan_percent,by_col=0,num=20)"
   ]
  },
  {
   "cell_type": "markdown",
   "metadata": {},
   "source": [
    "#### 0.3 按列对数值型变量求标准差  \n",
    "- std小于0.1的可以提出，目前看来只有一个"
   ]
  },
  {
   "cell_type": "code",
   "execution_count": 91,
   "metadata": {},
   "outputs": [
    {
     "data": {
      "image/png": "[encoded data removed]",
      "text/plain": [
       "<Figure size 1440x144 with 1 Axes>"
      ]
     },
     "metadata": {
      "needs_background": "light"
     },
     "output_type": "display_data"
    },
    {
     "data": {
      "image/png": "[encoded data removed]",
      "text/plain": [
       "<Figure size 1440x144 with 1 Axes>"
      ]
     },
     "metadata": {
      "needs_background": "light"
     },
     "output_type": "display_data"
    }
   ],
   "source": [
    "train_col_std = train_raw.std(axis=0).to_frame()\n",
    "train_col_std.sort_values(by=0,inplace=True)\n",
    "train_col_std = train_col_std.iloc[:20,:]\n",
    "test_col_std = test_raw.std(axis=0).to_frame()\n",
    "test_col_std.sort_values(by=0,inplace=True)\n",
    "test_col_std = test_col_std.iloc[:20,:]\n",
    "train_col_std = train_col_std.round(4)\n",
    "test_col_std = test_col_std.round(4)\n",
    "fu.plot_bar(train_col_std,by_col=0,num=6,ascending_=1)\n",
    "fu.plot_bar(train_col_std,by_col=0,num=6,ascending_=1)"
   ]
  },
  {
   "cell_type": "markdown",
   "metadata": {},
   "source": [
    "#### 0.4 通过xgb求出前20or40的特征，将这些特征缺失值大的样本剔除"
   ]
  },
  {
   "cell_type": "code",
   "execution_count": 12,
   "metadata": {},
   "outputs": [],
   "source": [
    "# XGB Classifier\n",
    "def XG_boost_classifier_CV(train_x, train_y):\n",
    "    model = XGBClassifier(eval_metric='auc',\n",
    "                          silent=1,\n",
    "                          nthread=2,\n",
    "                          scale_pos_weight=[1.4,2.1][1],#2.1, #***\n",
    "                          n_estimators=[100,110][1],#110,\n",
    "                          max_depth=3,  # 太大容易过拟合，6线下到0.98\n",
    "                          learning_rate=0.1,\n",
    "                          subsample=1,\n",
    "                          colsample_bytree=1,\n",
    "                          min_child_weight=1,\n",
    "                          #early_stopping_rounds=1 # 默认值是\n",
    "                         )\n",
    "    # 训练前截取一个测试集，random_state把测试集固定了，应该更随机\n",
    "    kfold_test = StratifiedShuffleSplit(n_splits=1,test_size=0.15,train_size=0.85,random_state=random.randint(0,1000))  # 对数据进行交叉验证划分\n",
    "    for train,test in kfold_test.split(train_x, train_y):\n",
    "        train_x_, train_y_ = train_x.iloc[train], train_y.iloc[train]    \n",
    "    best_parameters = 1\n",
    "    train_x_,train_y_ = train_x,train_y\n",
    "    grid_search = model.fit(train_x_,train_y_)   # 执行类中的fit函数得到模型\n",
    "    train_y_predprob = grid_search.predict_proba(train_x_)[:,1]\n",
    "    train_auc = metrics.roc_auc_score(train_y_, train_y_predprob).round(4)                   # 计算auc    \n",
    "    print('Training AUC:', train_auc)\n",
    "    # 从训练集中截取一个子集作为样本内的test计算auc\n",
    "    for train,test in kfold_test.split(train_x, train_y):\n",
    "        y_predprob = grid_search.predict_proba(train_x.iloc[test])[:,1]\n",
    "        test_auc = metrics.roc_auc_score(y_train.iloc[test], y_predprob).round(4)                   # 计算auc\n",
    "        print('Testing AUC:', test_auc)    \n",
    "\n",
    "    return grid_search,best_parameters,train_auc,test_auc"
   ]
  },
  {
   "cell_type": "code",
   "execution_count": 13,
   "metadata": {},
   "outputs": [],
   "source": [
    "train_target_raw = pd.merge(train_raw,train_target, how='left', on=['id'])\n",
    "column_use = list(test_raw.columns.values)\n",
    "column_use = [x for x in column_use if x not in []]\n",
    "X_train = train_raw[column_use].copy()\n",
    "y_train = train_target_raw[\"target\"].copy()\n",
    "X_test = test_raw[column_use]"
   ]
  },
  {
   "cell_type": "code",
   "execution_count": 26,
   "metadata": {},
   "outputs": [
    {
     "name": "stdout",
     "output_type": "stream",
     "text": [
      "Training AUC: 0.7922\n",
      "Testing AUC: 0.7887\n",
      "Testing AUC: 0.8005\n",
      "Testing AUC: 0.7883\n",
      "Testing AUC: 0.7658\n",
      "Testing AUC: 0.8331\n"
     ]
    }
   ],
   "source": [
    "model,best_parameters,train_auc,test_auc = XG_boost_classifier_CV(X_train, y_train)"
   ]
  },
  {
   "cell_type": "code",
   "execution_count": 27,
   "metadata": {},
   "outputs": [
    {
     "data": {
      "text/plain": [
       "XGBClassifier(base_score=0.5, booster='gbtree', colsample_bylevel=1,\n",
       "       colsample_bytree=1, eval_metric='auc', gamma=0, learning_rate=0.1,\n",
       "       max_delta_step=0, max_depth=3, min_child_weight=1, missing=None,\n",
       "       n_estimators=110, n_jobs=1, nthread=2, objective='binary:logistic',\n",
       "       random_state=0, reg_alpha=0, reg_lambda=1, scale_pos_weight=2.1,\n",
       "       seed=None, silent=1, subsample=1)"
      ]
     },
     "execution_count": 27,
     "metadata": {},
     "output_type": "execute_result"
    }
   ],
   "source": [
    "model"
   ]
  },
  {
   "cell_type": "code",
   "execution_count": 28,
   "metadata": {},
   "outputs": [
    {
     "data": {
      "image/png": "[encoded data removed]",
      "text/plain": [
       "<Figure size 1440x144 with 1 Axes>"
      ]
     },
     "metadata": {
      "needs_background": "light"
     },
     "output_type": "display_data"
    }
   ],
   "source": [
    "f_importance = pd.DataFrame()\n",
    "f_importance['f_importance'] = model.feature_importances_\n",
    "f_importance.index = X_train.columns\n",
    "f_importance.sort_values(by='f_importance',ascending=False,inplace=True)\n",
    "fu.plot_bar(f_importance,by_col='f_importance',num=80,)"
   ]
  },
  {
   "cell_type": "code",
   "execution_count": 29,
   "metadata": {},
   "outputs": [],
   "source": [
    "# 0重要性的变量\n",
    "_0_importance_col = f_importance[f_importance['f_importance']==0].index#.tolist()\n",
    "high_importance_col = f_importance.iloc[:10].index"
   ]
  },
  {
   "cell_type": "code",
   "execution_count": 30,
   "metadata": {},
   "outputs": [],
   "source": [
    "tp_train = train_raw[high_importance_col]\n",
    "tp_test = test_raw[high_importance_col]"
   ]
  },
  {
   "cell_type": "code",
   "execution_count": 31,
   "metadata": {},
   "outputs": [
    {
     "data": {
      "image/png": "[encoded data removed]",
      "text/plain": [
       "<Figure size 2000x300 with 1 Axes>"
      ]
     },
     "metadata": {
      "needs_background": "light"
     },
     "output_type": "display_data"
    },
    {
     "data": {
      "image/png": "[encoded data removed]",
      "text/plain": [
       "<Figure size 2000x300 with 1 Axes>"
      ]
     },
     "metadata": {
      "needs_background": "light"
     },
     "output_type": "display_data"
    }
   ],
   "source": [
    "# 按列求-999的数量\n",
    "train_raw_nan = (tp_train==-999).sum(axis=1).to_frame()\n",
    "train_raw_nan.sort_values(by=0,ascending=True,inplace=True)\n",
    "train_raw_nan.index = range(train_raw_nan.shape[0])\n",
    "test_raw_nan = (tp_test==-999).sum(axis=1).to_frame()\n",
    "test_raw_nan.sort_values(by=0,ascending=True,inplace=True)\n",
    "test_raw_nan.index = range(test_raw_nan.shape[0])\n",
    "# 升序后画折线图\n",
    "fu.plot_line(train_raw_nan,columns_=[0],legend_=['train'],title_='')\n",
    "fu.plot_line(test_raw_nan,columns_=[0],legend_=['test'],title_='')"
   ]
  },
  {
   "cell_type": "code",
   "execution_count": null,
   "metadata": {},
   "outputs": [],
   "source": []
  },
  {
   "cell_type": "code",
   "execution_count": null,
   "metadata": {},
   "outputs": [],
   "source": []
  },
  {
   "cell_type": "markdown",
   "metadata": {},
   "source": [
    "# 1.特征工程"
   ]
  },
  {
   "cell_type": "code",
   "execution_count": 123,
   "metadata": {},
   "outputs": [],
   "source": [
    "#user_inf\n",
    "#loan_inf\n",
    "#loan_history_inf\n",
    "#x_inf"
   ]
  },
  {
   "cell_type": "markdown",
   "metadata": {},
   "source": [
    "### 1.1证件、地区、居住地、民族\n",
    "- 身份证：六位数字地址码，八位数字出生日期码，三位数字顺序码和一位数字校验码。中华人民共和国 居民身份证是国家法定的证明公民个人身份的有效证件。\n",
    "    - 身份证一生都不会变，可以代表一个人的籍贯\n",
    "    - 地区和居住地的区别又是什么\n",
    "- 身份证前六位\n",
    "    - 前两位是省:xx0000\n",
    "    - 中间两位是市:xxyy00\n",
    "    - 最后两位是区、县:从01开始排序，前20个是区，21以及之后是县，最后81+的是市下面的市\n",
    "- 我国采用四级六位编码制，用6个阿拉伯数字组成，没有七位数的\n",
    "    - 前两位表示省、市、自治区\n",
    "    - 第三位代表邮区\n",
    "    - 第四位代表县、市，代表投递邮局\n",
    "    - 最后两位是代表从这个城市哪个投递区投递的，即投递区的位置"
   ]
  },
  {
   "cell_type": "code",
   "execution_count": null,
   "metadata": {},
   "outputs": [],
   "source": []
  },
  {
   "cell_type": "code",
   "execution_count": 87,
   "metadata": {},
   "outputs": [],
   "source": [
    "# 省的代码，前两位\n",
    "train_raw['province'] = list(map(lambda x: x[:2],train_raw['certId'].astype(str).values))\n",
    "test_raw['province'] = list(map(lambda x: x[:2],test_raw['certId'].astype(str).values))\n",
    "train_raw['province'] = train_raw['province'].astype(int)\n",
    "test_raw['province'] = test_raw['province'].astype(int)\n",
    "# 市的代码，前四位\n",
    "train_raw['city'] = list(map(lambda x: x[:4],train_raw['certId'].astype(str).values))\n",
    "test_raw['city'] = list(map(lambda x: x[:4],test_raw['certId'].astype(str).values))\n",
    "train_raw['city'] = train_raw['city'].astype(int)\n",
    "test_raw['city'] = test_raw['city'].astype(int)\n",
    "\n",
    "train_raw['dist_city'] = list(map(lambda x: x[:4],train_raw['dist'].astype(str).values))\n",
    "test_raw['dist_city'] = list(map(lambda x: x[:4],test_raw['dist'].astype(str).values))\n",
    "train_raw['dist_city'] = train_raw['dist_city'].astype(int)\n",
    "test_raw['dist_city'] = test_raw['dist_city'].astype(int)\n",
    "\n",
    "train_raw['residentAddr_city'] = list(map(lambda x: x[:4],train_raw['residentAddr'].astype(str).values))\n",
    "test_raw['residentAddr_city'] = list(map(lambda x: x[:4],test_raw['residentAddr'].astype(str).values))\n",
    "train_raw['residentAddr_city'] = train_raw['residentAddr_city'].astype(int)\n",
    "test_raw['residentAddr_city'] = test_raw['residentAddr_city'].astype(int)"
   ]
  },
  {
   "cell_type": "code",
   "execution_count": 90,
   "metadata": {},
   "outputs": [],
   "source": [
    "train_raw['train_diff_city_cert_dist'] = (train_raw['city']!=train_raw['dist_city'])\n",
    "train_raw['train_diff_city_cert_residentAddr'] = (train_raw['city']!=train_raw['residentAddr_city'])\n",
    "train_raw['train_diff_city_dist_residentAddr'] = (train_raw['dist_city']!=train_raw['residentAddr_city'])\n",
    "train_raw['certId_nan'] = train_raw['certId'] == -999\n",
    "train_raw['dist_nan'] = train_raw['certId'] == -999\n",
    "train_raw['residentAddr_nan'] = train_raw['residentAddr'] == -999\n",
    "\n",
    "test_raw['train_diff_city_cert_dist'] = (test_raw['city']!=test_raw['dist_city'])\n",
    "test_raw['train_diff_city_cert_residentAddr'] = (test_raw['city']!=test_raw['residentAddr_city'])\n",
    "test_raw['train_diff_city_dist_residentAddr'] = (test_raw['dist_city']!=test_raw['residentAddr_city'])\n",
    "test_raw['certId_nan'] = test_raw['certId'] == -999\n",
    "test_raw['dist_nan'] = test_raw['certId'] == -999\n",
    "test_raw['residentAddr_nan'] = test_raw['residentAddr'] == -999"
   ]
  },
  {
   "cell_type": "code",
   "execution_count": 88,
   "metadata": {},
   "outputs": [],
   "source": [
    "tp = train_raw[['city','dist_city','residentAddr_city']]"
   ]
  },
  {
   "cell_type": "code",
   "execution_count": 92,
   "metadata": {},
   "outputs": [
    {
     "data": {
      "text/html": [
       "<div>\n",
       "<style scoped>\n",
       "    .dataframe tbody tr th:only-of-type {\n",
       "        vertical-align: middle;\n",
       "    }\n",
       "\n",
       "    .dataframe tbody tr th {\n",
       "        vertical-align: top;\n",
       "    }\n",
       "\n",
       "    .dataframe thead th {\n",
       "        text-align: right;\n",
       "    }\n",
       "</style>\n",
       "<table border=\"1\" class=\"dataframe\">\n",
       "  <thead>\n",
       "    <tr style=\"text-align: right;\">\n",
       "      <th></th>\n",
       "      <th>id</th>\n",
       "      <th>gender</th>\n",
       "      <th>age</th>\n",
       "      <th>edu</th>\n",
       "      <th>highestEdu</th>\n",
       "      <th>ethnic</th>\n",
       "      <th>residentAddr</th>\n",
       "      <th>dist</th>\n",
       "      <th>job</th>\n",
       "      <th>certId</th>\n",
       "      <th>certValidBegin</th>\n",
       "      <th>certValidStop</th>\n",
       "      <th>bankCard</th>\n",
       "      <th>loanProduct</th>\n",
       "      <th>lmt</th>\n",
       "      <th>basicLevel</th>\n",
       "      <th>linkRela</th>\n",
       "      <th>setupHour</th>\n",
       "      <th>weekday</th>\n",
       "      <th>isNew</th>\n",
       "      <th>ncloseCreditCard</th>\n",
       "      <th>unpayIndvLoan</th>\n",
       "      <th>unpayOtherLoan</th>\n",
       "      <th>unpayNormalLoan</th>\n",
       "      <th>5yearBadloan</th>\n",
       "      <th>x_0</th>\n",
       "      <th>x_12</th>\n",
       "      <th>x_14</th>\n",
       "      <th>x_16</th>\n",
       "      <th>x_20</th>\n",
       "      <th>x_22</th>\n",
       "      <th>x_25</th>\n",
       "      <th>x_26</th>\n",
       "      <th>x_27</th>\n",
       "      <th>x_28</th>\n",
       "      <th>x_29</th>\n",
       "      <th>x_30</th>\n",
       "      <th>x_31</th>\n",
       "      <th>x_32</th>\n",
       "      <th>x_33</th>\n",
       "      <th>x_34</th>\n",
       "      <th>x_35</th>\n",
       "      <th>x_39</th>\n",
       "      <th>x_42</th>\n",
       "      <th>x_44</th>\n",
       "      <th>x_46</th>\n",
       "      <th>x_47</th>\n",
       "      <th>x_48</th>\n",
       "      <th>x_49</th>\n",
       "      <th>x_50</th>\n",
       "      <th>x_51</th>\n",
       "      <th>x_52</th>\n",
       "      <th>x_53</th>\n",
       "      <th>x_54</th>\n",
       "      <th>x_55</th>\n",
       "      <th>x_56</th>\n",
       "      <th>x_62</th>\n",
       "      <th>x_63</th>\n",
       "      <th>x_64</th>\n",
       "      <th>x_65</th>\n",
       "      <th>x_66</th>\n",
       "      <th>x_67</th>\n",
       "      <th>x_68</th>\n",
       "      <th>x_69</th>\n",
       "      <th>x_71</th>\n",
       "      <th>x_72</th>\n",
       "      <th>x_73</th>\n",
       "      <th>x_74</th>\n",
       "      <th>x_75</th>\n",
       "      <th>x_76</th>\n",
       "      <th>x_sum</th>\n",
       "      <th>x_nan_num</th>\n",
       "      <th>edu_bins</th>\n",
       "      <th>highestEdu_bins</th>\n",
       "      <th>province</th>\n",
       "      <th>city</th>\n",
       "      <th>dist_city</th>\n",
       "      <th>residentAddr_city</th>\n",
       "      <th>train_diff_city_cert_dist</th>\n",
       "      <th>train_diff_city_cert_residentAddr</th>\n",
       "      <th>train_diff_city_dist_residentAddr</th>\n",
       "      <th>certId_nan</th>\n",
       "      <th>dist_nan</th>\n",
       "      <th>residentAddr_nan</th>\n",
       "    </tr>\n",
       "  </thead>\n",
       "  <tbody>\n",
       "    <tr>\n",
       "      <th>0</th>\n",
       "      <td>1</td>\n",
       "      <td>2</td>\n",
       "      <td>27</td>\n",
       "      <td>0</td>\n",
       "      <td>-999</td>\n",
       "      <td>0</td>\n",
       "      <td>640513</td>\n",
       "      <td>640500</td>\n",
       "      <td>8</td>\n",
       "      <td>640582</td>\n",
       "      <td>3637094400</td>\n",
       "      <td>3.952714e+09</td>\n",
       "      <td>-999.0</td>\n",
       "      <td>1</td>\n",
       "      <td>5.963</td>\n",
       "      <td>3</td>\n",
       "      <td>0</td>\n",
       "      <td>9</td>\n",
       "      <td>6</td>\n",
       "      <td>1</td>\n",
       "      <td>1</td>\n",
       "      <td>0</td>\n",
       "      <td>1</td>\n",
       "      <td>0</td>\n",
       "      <td>0</td>\n",
       "      <td>0</td>\n",
       "      <td>0</td>\n",
       "      <td>0</td>\n",
       "      <td>1</td>\n",
       "      <td>1</td>\n",
       "      <td>1</td>\n",
       "      <td>0</td>\n",
       "      <td>0</td>\n",
       "      <td>0</td>\n",
       "      <td>0</td>\n",
       "      <td>0</td>\n",
       "      <td>0</td>\n",
       "      <td>0</td>\n",
       "      <td>0</td>\n",
       "      <td>3</td>\n",
       "      <td>5</td>\n",
       "      <td>0</td>\n",
       "      <td>0</td>\n",
       "      <td>0</td>\n",
       "      <td>0</td>\n",
       "      <td>0</td>\n",
       "      <td>0</td>\n",
       "      <td>0</td>\n",
       "      <td>0</td>\n",
       "      <td>1</td>\n",
       "      <td>1</td>\n",
       "      <td>1</td>\n",
       "      <td>0</td>\n",
       "      <td>0</td>\n",
       "      <td>0</td>\n",
       "      <td>0</td>\n",
       "      <td>1</td>\n",
       "      <td>0</td>\n",
       "      <td>0</td>\n",
       "      <td>0</td>\n",
       "      <td>0</td>\n",
       "      <td>0</td>\n",
       "      <td>0</td>\n",
       "      <td>0</td>\n",
       "      <td>0</td>\n",
       "      <td>0</td>\n",
       "      <td>0</td>\n",
       "      <td>1</td>\n",
       "      <td>0</td>\n",
       "      <td>0</td>\n",
       "      <td>18</td>\n",
       "      <td>0</td>\n",
       "      <td>未知0</td>\n",
       "      <td>未知-999</td>\n",
       "      <td>64</td>\n",
       "      <td>6405</td>\n",
       "      <td>6405</td>\n",
       "      <td>6405</td>\n",
       "      <td>False</td>\n",
       "      <td>False</td>\n",
       "      <td>False</td>\n",
       "      <td>False</td>\n",
       "      <td>False</td>\n",
       "      <td>False</td>\n",
       "    </tr>\n",
       "    <tr>\n",
       "      <th>1</th>\n",
       "      <td>2</td>\n",
       "      <td>2</td>\n",
       "      <td>25</td>\n",
       "      <td>0</td>\n",
       "      <td>99</td>\n",
       "      <td>0</td>\n",
       "      <td>621023</td>\n",
       "      <td>640600</td>\n",
       "      <td>3</td>\n",
       "      <td>621023</td>\n",
       "      <td>3739996800</td>\n",
       "      <td>4.371149e+09</td>\n",
       "      <td>622848079.0</td>\n",
       "      <td>2</td>\n",
       "      <td>6.467</td>\n",
       "      <td>3</td>\n",
       "      <td>11</td>\n",
       "      <td>6</td>\n",
       "      <td>5</td>\n",
       "      <td>1</td>\n",
       "      <td>1</td>\n",
       "      <td>0</td>\n",
       "      <td>1</td>\n",
       "      <td>0</td>\n",
       "      <td>0</td>\n",
       "      <td>0</td>\n",
       "      <td>0</td>\n",
       "      <td>0</td>\n",
       "      <td>1</td>\n",
       "      <td>1</td>\n",
       "      <td>1</td>\n",
       "      <td>0</td>\n",
       "      <td>0</td>\n",
       "      <td>0</td>\n",
       "      <td>0</td>\n",
       "      <td>0</td>\n",
       "      <td>0</td>\n",
       "      <td>0</td>\n",
       "      <td>0</td>\n",
       "      <td>3</td>\n",
       "      <td>5</td>\n",
       "      <td>0</td>\n",
       "      <td>0</td>\n",
       "      <td>0</td>\n",
       "      <td>0</td>\n",
       "      <td>0</td>\n",
       "      <td>0</td>\n",
       "      <td>0</td>\n",
       "      <td>1</td>\n",
       "      <td>0</td>\n",
       "      <td>1</td>\n",
       "      <td>0</td>\n",
       "      <td>0</td>\n",
       "      <td>1</td>\n",
       "      <td>0</td>\n",
       "      <td>0</td>\n",
       "      <td>1</td>\n",
       "      <td>0</td>\n",
       "      <td>0</td>\n",
       "      <td>1</td>\n",
       "      <td>1</td>\n",
       "      <td>0</td>\n",
       "      <td>0</td>\n",
       "      <td>0</td>\n",
       "      <td>0</td>\n",
       "      <td>0</td>\n",
       "      <td>0</td>\n",
       "      <td>1</td>\n",
       "      <td>0</td>\n",
       "      <td>0</td>\n",
       "      <td>20</td>\n",
       "      <td>0</td>\n",
       "      <td>未知0</td>\n",
       "      <td>其他99</td>\n",
       "      <td>62</td>\n",
       "      <td>6210</td>\n",
       "      <td>6406</td>\n",
       "      <td>6210</td>\n",
       "      <td>True</td>\n",
       "      <td>False</td>\n",
       "      <td>True</td>\n",
       "      <td>False</td>\n",
       "      <td>False</td>\n",
       "      <td>False</td>\n",
       "    </tr>\n",
       "    <tr>\n",
       "      <th>2</th>\n",
       "      <td>3</td>\n",
       "      <td>2</td>\n",
       "      <td>37</td>\n",
       "      <td>70</td>\n",
       "      <td>70</td>\n",
       "      <td>0</td>\n",
       "      <td>641204</td>\n",
       "      <td>641200</td>\n",
       "      <td>5</td>\n",
       "      <td>641283</td>\n",
       "      <td>3347913600</td>\n",
       "      <td>3.979066e+09</td>\n",
       "      <td>-999.0</td>\n",
       "      <td>1</td>\n",
       "      <td>0.596</td>\n",
       "      <td>1</td>\n",
       "      <td>0</td>\n",
       "      <td>1</td>\n",
       "      <td>6</td>\n",
       "      <td>1</td>\n",
       "      <td>0</td>\n",
       "      <td>0</td>\n",
       "      <td>0</td>\n",
       "      <td>0</td>\n",
       "      <td>0</td>\n",
       "      <td>0</td>\n",
       "      <td>0</td>\n",
       "      <td>0</td>\n",
       "      <td>1</td>\n",
       "      <td>0</td>\n",
       "      <td>1</td>\n",
       "      <td>0</td>\n",
       "      <td>0</td>\n",
       "      <td>0</td>\n",
       "      <td>0</td>\n",
       "      <td>0</td>\n",
       "      <td>0</td>\n",
       "      <td>0</td>\n",
       "      <td>0</td>\n",
       "      <td>5</td>\n",
       "      <td>4</td>\n",
       "      <td>0</td>\n",
       "      <td>0</td>\n",
       "      <td>0</td>\n",
       "      <td>0</td>\n",
       "      <td>1</td>\n",
       "      <td>0</td>\n",
       "      <td>0</td>\n",
       "      <td>0</td>\n",
       "      <td>0</td>\n",
       "      <td>0</td>\n",
       "      <td>1</td>\n",
       "      <td>0</td>\n",
       "      <td>0</td>\n",
       "      <td>0</td>\n",
       "      <td>0</td>\n",
       "      <td>0</td>\n",
       "      <td>0</td>\n",
       "      <td>0</td>\n",
       "      <td>0</td>\n",
       "      <td>0</td>\n",
       "      <td>0</td>\n",
       "      <td>0</td>\n",
       "      <td>0</td>\n",
       "      <td>0</td>\n",
       "      <td>0</td>\n",
       "      <td>0</td>\n",
       "      <td>1</td>\n",
       "      <td>0</td>\n",
       "      <td>0</td>\n",
       "      <td>14</td>\n",
       "      <td>0</td>\n",
       "      <td>初中</td>\n",
       "      <td>初中</td>\n",
       "      <td>64</td>\n",
       "      <td>6412</td>\n",
       "      <td>6412</td>\n",
       "      <td>6412</td>\n",
       "      <td>False</td>\n",
       "      <td>False</td>\n",
       "      <td>False</td>\n",
       "      <td>False</td>\n",
       "      <td>False</td>\n",
       "      <td>False</td>\n",
       "    </tr>\n",
       "    <tr>\n",
       "      <th>3</th>\n",
       "      <td>4</td>\n",
       "      <td>2</td>\n",
       "      <td>29</td>\n",
       "      <td>0</td>\n",
       "      <td>-999</td>\n",
       "      <td>0</td>\n",
       "      <td>-999</td>\n",
       "      <td>340821</td>\n",
       "      <td>4</td>\n",
       "      <td>340821</td>\n",
       "      <td>3713385600</td>\n",
       "      <td>4.344538e+09</td>\n",
       "      <td>-999.0</td>\n",
       "      <td>3</td>\n",
       "      <td>6.300</td>\n",
       "      <td>3</td>\n",
       "      <td>-999</td>\n",
       "      <td>13</td>\n",
       "      <td>6</td>\n",
       "      <td>1</td>\n",
       "      <td>1</td>\n",
       "      <td>0</td>\n",
       "      <td>1</td>\n",
       "      <td>0</td>\n",
       "      <td>0</td>\n",
       "      <td>0</td>\n",
       "      <td>0</td>\n",
       "      <td>1</td>\n",
       "      <td>1</td>\n",
       "      <td>1</td>\n",
       "      <td>1</td>\n",
       "      <td>1</td>\n",
       "      <td>1</td>\n",
       "      <td>1</td>\n",
       "      <td>0</td>\n",
       "      <td>0</td>\n",
       "      <td>0</td>\n",
       "      <td>1</td>\n",
       "      <td>0</td>\n",
       "      <td>3</td>\n",
       "      <td>4</td>\n",
       "      <td>0</td>\n",
       "      <td>0</td>\n",
       "      <td>0</td>\n",
       "      <td>0</td>\n",
       "      <td>1</td>\n",
       "      <td>0</td>\n",
       "      <td>0</td>\n",
       "      <td>0</td>\n",
       "      <td>0</td>\n",
       "      <td>1</td>\n",
       "      <td>0</td>\n",
       "      <td>1</td>\n",
       "      <td>0</td>\n",
       "      <td>0</td>\n",
       "      <td>0</td>\n",
       "      <td>1</td>\n",
       "      <td>1</td>\n",
       "      <td>0</td>\n",
       "      <td>0</td>\n",
       "      <td>0</td>\n",
       "      <td>0</td>\n",
       "      <td>0</td>\n",
       "      <td>0</td>\n",
       "      <td>0</td>\n",
       "      <td>0</td>\n",
       "      <td>0</td>\n",
       "      <td>0</td>\n",
       "      <td>0</td>\n",
       "      <td>0</td>\n",
       "      <td>22</td>\n",
       "      <td>0</td>\n",
       "      <td>未知0</td>\n",
       "      <td>未知-999</td>\n",
       "      <td>34</td>\n",
       "      <td>3408</td>\n",
       "      <td>3408</td>\n",
       "      <td>-999</td>\n",
       "      <td>False</td>\n",
       "      <td>True</td>\n",
       "      <td>True</td>\n",
       "      <td>False</td>\n",
       "      <td>False</td>\n",
       "      <td>True</td>\n",
       "    </tr>\n",
       "    <tr>\n",
       "      <th>4</th>\n",
       "      <td>5</td>\n",
       "      <td>2</td>\n",
       "      <td>22</td>\n",
       "      <td>0</td>\n",
       "      <td>99</td>\n",
       "      <td>4</td>\n",
       "      <td>732628</td>\n",
       "      <td>732628</td>\n",
       "      <td>2</td>\n",
       "      <td>732628</td>\n",
       "      <td>3652214400</td>\n",
       "      <td>3.967834e+09</td>\n",
       "      <td>622700392.0</td>\n",
       "      <td>2</td>\n",
       "      <td>6.700</td>\n",
       "      <td>2</td>\n",
       "      <td>11</td>\n",
       "      <td>8</td>\n",
       "      <td>3</td>\n",
       "      <td>1</td>\n",
       "      <td>1</td>\n",
       "      <td>0</td>\n",
       "      <td>1</td>\n",
       "      <td>0</td>\n",
       "      <td>0</td>\n",
       "      <td>0</td>\n",
       "      <td>0</td>\n",
       "      <td>0</td>\n",
       "      <td>1</td>\n",
       "      <td>1</td>\n",
       "      <td>1</td>\n",
       "      <td>1</td>\n",
       "      <td>0</td>\n",
       "      <td>1</td>\n",
       "      <td>1</td>\n",
       "      <td>0</td>\n",
       "      <td>0</td>\n",
       "      <td>0</td>\n",
       "      <td>0</td>\n",
       "      <td>1</td>\n",
       "      <td>1</td>\n",
       "      <td>0</td>\n",
       "      <td>0</td>\n",
       "      <td>0</td>\n",
       "      <td>0</td>\n",
       "      <td>1</td>\n",
       "      <td>0</td>\n",
       "      <td>0</td>\n",
       "      <td>0</td>\n",
       "      <td>0</td>\n",
       "      <td>1</td>\n",
       "      <td>1</td>\n",
       "      <td>0</td>\n",
       "      <td>0</td>\n",
       "      <td>0</td>\n",
       "      <td>0</td>\n",
       "      <td>0</td>\n",
       "      <td>0</td>\n",
       "      <td>0</td>\n",
       "      <td>0</td>\n",
       "      <td>0</td>\n",
       "      <td>1</td>\n",
       "      <td>0</td>\n",
       "      <td>0</td>\n",
       "      <td>1</td>\n",
       "      <td>0</td>\n",
       "      <td>0</td>\n",
       "      <td>1</td>\n",
       "      <td>0</td>\n",
       "      <td>0</td>\n",
       "      <td>16</td>\n",
       "      <td>0</td>\n",
       "      <td>未知0</td>\n",
       "      <td>其他99</td>\n",
       "      <td>73</td>\n",
       "      <td>7326</td>\n",
       "      <td>7326</td>\n",
       "      <td>7326</td>\n",
       "      <td>False</td>\n",
       "      <td>False</td>\n",
       "      <td>False</td>\n",
       "      <td>False</td>\n",
       "      <td>False</td>\n",
       "      <td>False</td>\n",
       "    </tr>\n",
       "  </tbody>\n",
       "</table>\n",
       "</div>"
      ],
      "text/plain": [
       "   id  gender  age  edu  highestEdu  ethnic  residentAddr    dist  job  \\\n",
       "0   1       2   27    0        -999       0        640513  640500    8   \n",
       "1   2       2   25    0          99       0        621023  640600    3   \n",
       "2   3       2   37   70          70       0        641204  641200    5   \n",
       "3   4       2   29    0        -999       0          -999  340821    4   \n",
       "4   5       2   22    0          99       4        732628  732628    2   \n",
       "\n",
       "   certId  certValidBegin  certValidStop     bankCard  loanProduct    lmt  \\\n",
       "0  640582      3637094400   3.952714e+09       -999.0            1  5.963   \n",
       "1  621023      3739996800   4.371149e+09  622848079.0            2  6.467   \n",
       "2  641283      3347913600   3.979066e+09       -999.0            1  0.596   \n",
       "3  340821      3713385600   4.344538e+09       -999.0            3  6.300   \n",
       "4  732628      3652214400   3.967834e+09  622700392.0            2  6.700   \n",
       "\n",
       "   basicLevel  linkRela  setupHour  weekday  isNew  ncloseCreditCard  \\\n",
       "0           3         0          9        6      1                 1   \n",
       "1           3        11          6        5      1                 1   \n",
       "2           1         0          1        6      1                 0   \n",
       "3           3      -999         13        6      1                 1   \n",
       "4           2        11          8        3      1                 1   \n",
       "\n",
       "   unpayIndvLoan  unpayOtherLoan  unpayNormalLoan  5yearBadloan  x_0  x_12  \\\n",
       "0              0               1                0             0    0     0   \n",
       "1              0               1                0             0    0     0   \n",
       "2              0               0                0             0    0     0   \n",
       "3              0               1                0             0    0     0   \n",
       "4              0               1                0             0    0     0   \n",
       "\n",
       "   x_14  x_16  x_20  x_22  x_25  x_26  x_27  x_28  x_29  x_30  x_31  x_32  \\\n",
       "0     0     1     1     1     0     0     0     0     0     0     0     0   \n",
       "1     0     1     1     1     0     0     0     0     0     0     0     0   \n",
       "2     0     1     0     1     0     0     0     0     0     0     0     0   \n",
       "3     1     1     1     1     1     1     1     0     0     0     1     0   \n",
       "4     0     1     1     1     1     0     1     1     0     0     0     0   \n",
       "\n",
       "   x_33  x_34  x_35  x_39  x_42  x_44  x_46  x_47  x_48  x_49  x_50  x_51  \\\n",
       "0     3     5     0     0     0     0     0     0     0     0     1     1   \n",
       "1     3     5     0     0     0     0     0     0     0     1     0     1   \n",
       "2     5     4     0     0     0     0     1     0     0     0     0     0   \n",
       "3     3     4     0     0     0     0     1     0     0     0     0     1   \n",
       "4     1     1     0     0     0     0     1     0     0     0     0     1   \n",
       "\n",
       "   x_52  x_53  x_54  x_55  x_56  x_62  x_63  x_64  x_65  x_66  x_67  x_68  \\\n",
       "0     1     0     0     0     0     1     0     0     0     0     0     0   \n",
       "1     0     0     1     0     0     1     0     0     1     1     0     0   \n",
       "2     1     0     0     0     0     0     0     0     0     0     0     0   \n",
       "3     0     1     0     0     0     1     1     0     0     0     0     0   \n",
       "4     1     0     0     0     0     0     0     0     0     0     1     0   \n",
       "\n",
       "   x_69  x_71  x_72  x_73  x_74  x_75  x_76  x_sum  x_nan_num edu_bins  \\\n",
       "0     0     0     0     0     1     0     0     18          0      未知0   \n",
       "1     0     0     0     0     1     0     0     20          0      未知0   \n",
       "2     0     0     0     0     1     0     0     14          0       初中   \n",
       "3     0     0     0     0     0     0     0     22          0      未知0   \n",
       "4     0     1     0     0     1     0     0     16          0      未知0   \n",
       "\n",
       "  highestEdu_bins  province  city  dist_city  residentAddr_city  \\\n",
       "0          未知-999        64  6405       6405               6405   \n",
       "1            其他99        62  6210       6406               6210   \n",
       "2              初中        64  6412       6412               6412   \n",
       "3          未知-999        34  3408       3408               -999   \n",
       "4            其他99        73  7326       7326               7326   \n",
       "\n",
       "   train_diff_city_cert_dist  train_diff_city_cert_residentAddr  \\\n",
       "0                      False                              False   \n",
       "1                       True                              False   \n",
       "2                      False                              False   \n",
       "3                      False                               True   \n",
       "4                      False                              False   \n",
       "\n",
       "   train_diff_city_dist_residentAddr  certId_nan  dist_nan  residentAddr_nan  \n",
       "0                              False       False     False             False  \n",
       "1                               True       False     False             False  \n",
       "2                              False       False     False             False  \n",
       "3                               True       False     False              True  \n",
       "4                              False       False     False             False  "
      ]
     },
     "execution_count": 92,
     "metadata": {},
     "output_type": "execute_result"
    }
   ],
   "source": [
    "train_raw.head()"
   ]
  },
  {
   "cell_type": "code",
   "execution_count": 42,
   "metadata": {},
   "outputs": [
    {
     "data": {
      "text/html": [
       "<div>\n",
       "<style scoped>\n",
       "    .dataframe tbody tr th:only-of-type {\n",
       "        vertical-align: middle;\n",
       "    }\n",
       "\n",
       "    .dataframe tbody tr th {\n",
       "        vertical-align: top;\n",
       "    }\n",
       "\n",
       "    .dataframe thead th {\n",
       "        text-align: right;\n",
       "    }\n",
       "</style>\n",
       "<table border=\"1\" class=\"dataframe\">\n",
       "  <thead>\n",
       "    <tr style=\"text-align: right;\">\n",
       "      <th></th>\n",
       "      <th>certid_position_numb</th>\n",
       "      <th>position</th>\n",
       "      <th>province</th>\n",
       "      <th>city</th>\n",
       "    </tr>\n",
       "  </thead>\n",
       "  <tbody>\n",
       "    <tr>\n",
       "      <th>0</th>\n",
       "      <td>110000</td>\n",
       "      <td>北京市</td>\n",
       "      <td>11</td>\n",
       "      <td>1100</td>\n",
       "    </tr>\n",
       "    <tr>\n",
       "      <th>1</th>\n",
       "      <td>110100</td>\n",
       "      <td>北京市市辖区</td>\n",
       "      <td>11</td>\n",
       "      <td>1101</td>\n",
       "    </tr>\n",
       "    <tr>\n",
       "      <th>2</th>\n",
       "      <td>110101</td>\n",
       "      <td>北京市东城区</td>\n",
       "      <td>11</td>\n",
       "      <td>1101</td>\n",
       "    </tr>\n",
       "    <tr>\n",
       "      <th>3</th>\n",
       "      <td>110102</td>\n",
       "      <td>北京市西城区</td>\n",
       "      <td>11</td>\n",
       "      <td>1101</td>\n",
       "    </tr>\n",
       "    <tr>\n",
       "      <th>4</th>\n",
       "      <td>110105</td>\n",
       "      <td>北京市朝阳区</td>\n",
       "      <td>11</td>\n",
       "      <td>1101</td>\n",
       "    </tr>\n",
       "  </tbody>\n",
       "</table>\n",
       "</div>"
      ],
      "text/plain": [
       "  certid_position_numb position province  city\n",
       "0               110000      北京市       11  1100\n",
       "1               110100   北京市市辖区       11  1101\n",
       "2               110101   北京市东城区       11  1101\n",
       "3               110102   北京市西城区       11  1101\n",
       "4               110105   北京市朝阳区       11  1101"
      ]
     },
     "execution_count": 42,
     "metadata": {},
     "output_type": "execute_result"
    }
   ],
   "source": [
    "# 读取身份证代买与地区的对应关系\n",
    "file_name = os.path.join(data_path,'身份证号前6位地区代码.csv')\n",
    "with open(file_name,'r',encoding='utf-8') as f:\n",
    "    certid_position = pd.read_csv(f)\n",
    "certid_position.columns = ['certid_position_numb','position']\n",
    "certid_position['province'] = list(map(lambda x: x[:2],certid_position['certid_position_numb'].astype(str).values))\n",
    "certid_position['city'] = list(map(lambda x: x[:4],certid_position['certid_position_numb'].astype(str).values))\n",
    "certid_position = certid_position.iloc[:certid_position.shape[0]-3,:]\n",
    "certid_position.head()"
   ]
  },
  {
   "cell_type": "code",
   "execution_count": 43,
   "metadata": {},
   "outputs": [],
   "source": [
    "province_df = certid_position.groupby(by='province').apply(lambda x:x.iloc[0,:])\n",
    "province_df['position'] = list(map(lambda x:x[:2],province_df['position'].astype(str).values))\n",
    "province_df = province_df.sort_values(by='province')\n",
    "\n",
    "city_df = certid_position.groupby(by='city').apply(lambda x:x.iloc[0,:])\n",
    "city_df['position'] = list(map(lambda x:x[:6],city_df['position'].astype(str).values))\n",
    "city_df = city_df.sort_values(by='city')"
   ]
  },
  {
   "cell_type": "code",
   "execution_count": 39,
   "metadata": {},
   "outputs": [
    {
     "data": {
      "text/html": [
       "<div>\n",
       "<style scoped>\n",
       "    .dataframe tbody tr th:only-of-type {\n",
       "        vertical-align: middle;\n",
       "    }\n",
       "\n",
       "    .dataframe tbody tr th {\n",
       "        vertical-align: top;\n",
       "    }\n",
       "\n",
       "    .dataframe thead th {\n",
       "        text-align: right;\n",
       "    }\n",
       "</style>\n",
       "<table border=\"1\" class=\"dataframe\">\n",
       "  <thead>\n",
       "    <tr style=\"text-align: right;\">\n",
       "      <th></th>\n",
       "      <th>province</th>\n",
       "      <th>target</th>\n",
       "      <th>certId</th>\n",
       "      <th>count</th>\n",
       "      <th>certid_position_numb</th>\n",
       "      <th>position</th>\n",
       "      <th>city</th>\n",
       "    </tr>\n",
       "  </thead>\n",
       "  <tbody>\n",
       "    <tr>\n",
       "      <th>0</th>\n",
       "      <td>31</td>\n",
       "      <td>0.001305</td>\n",
       "      <td>310148.502611</td>\n",
       "      <td>766</td>\n",
       "      <td>310000</td>\n",
       "      <td>上海</td>\n",
       "      <td>310000</td>\n",
       "    </tr>\n",
       "    <tr>\n",
       "      <th>1</th>\n",
       "      <td>32</td>\n",
       "      <td>0.003630</td>\n",
       "      <td>320144.094374</td>\n",
       "      <td>551</td>\n",
       "      <td>320100</td>\n",
       "      <td>江苏</td>\n",
       "      <td>320100</td>\n",
       "    </tr>\n",
       "    <tr>\n",
       "      <th>2</th>\n",
       "      <td>33</td>\n",
       "      <td>0.004525</td>\n",
       "      <td>330727.233937</td>\n",
       "      <td>4420</td>\n",
       "      <td>330100</td>\n",
       "      <td>浙江</td>\n",
       "      <td>330100</td>\n",
       "    </tr>\n",
       "    <tr>\n",
       "      <th>3</th>\n",
       "      <td>34</td>\n",
       "      <td>0.011232</td>\n",
       "      <td>341583.632152</td>\n",
       "      <td>2849</td>\n",
       "      <td>340100</td>\n",
       "      <td>安徽</td>\n",
       "      <td>340100</td>\n",
       "    </tr>\n",
       "    <tr>\n",
       "      <th>4</th>\n",
       "      <td>35</td>\n",
       "      <td>0.009165</td>\n",
       "      <td>351542.644603</td>\n",
       "      <td>1964</td>\n",
       "      <td>350100</td>\n",
       "      <td>福建</td>\n",
       "      <td>350100</td>\n",
       "    </tr>\n",
       "  </tbody>\n",
       "</table>\n",
       "</div>"
      ],
      "text/plain": [
       "  province    target         certId  count certid_position_numb position  \\\n",
       "0       31  0.001305  310148.502611    766               310000       上海   \n",
       "1       32  0.003630  320144.094374    551               320100       江苏   \n",
       "2       33  0.004525  330727.233937   4420               330100       浙江   \n",
       "3       34  0.011232  341583.632152   2849               340100       安徽   \n",
       "4       35  0.009165  351542.644603   1964               350100       福建   \n",
       "\n",
       "     city  \n",
       "0  310000  \n",
       "1  320100  \n",
       "2  330100  \n",
       "3  340100  \n",
       "4  350100  "
      ]
     },
     "execution_count": 39,
     "metadata": {},
     "output_type": "execute_result"
    }
   ],
   "source": [
    "# 省的代码\n",
    "train_raw['province'] = list(map(lambda x: x[:2],train_raw['certId'].astype(str).values))\n",
    "test_raw['province'] = list(map(lambda x: x[:2],test_raw['certId'].astype(str).values))\n",
    "train_target_raw = pd.merge(train_raw,train_target, how='left', on=['id'])\n",
    "tp = train_target_raw[['province','target','certId']]\n",
    "tp = tp.sort_values(by='province')\n",
    "tp_ = tp.groupby('province').mean()\n",
    "tp_['count'] = tp.groupby('province').count()['target']\n",
    "tp_ = pd.merge(tp_,province_df,on='province',how='left')\n",
    "tp_.head()"
   ]
  },
  {
   "cell_type": "code",
   "execution_count": 40,
   "metadata": {},
   "outputs": [
    {
     "data": {
      "image/png": "[encoded data removed]",
      "text/plain": [
       "<Figure size 1440x144 with 1 Axes>"
      ]
     },
     "metadata": {
      "needs_background": "light"
     },
     "output_type": "display_data"
    },
    {
     "data": {
      "image/png": "[encoded data removed]",
      "text/plain": [
       "<Figure size 1440x144 with 1 Axes>"
      ]
     },
     "metadata": {
      "needs_background": "light"
     },
     "output_type": "display_data"
    }
   ],
   "source": [
    "tp_.index = tp_['position']\n",
    "fu.plot_bar(tp_[['position','target']],by_col='target',num=34,ascending_=0)\n",
    "fu.plot_bar(tp_[['position','count']],by_col='count',num=34,ascending_=0)"
   ]
  },
  {
   "cell_type": "code",
   "execution_count": 44,
   "metadata": {},
   "outputs": [
    {
     "data": {
      "text/html": [
       "<div>\n",
       "<style scoped>\n",
       "    .dataframe tbody tr th:only-of-type {\n",
       "        vertical-align: middle;\n",
       "    }\n",
       "\n",
       "    .dataframe tbody tr th {\n",
       "        vertical-align: top;\n",
       "    }\n",
       "\n",
       "    .dataframe thead th {\n",
       "        text-align: right;\n",
       "    }\n",
       "</style>\n",
       "<table border=\"1\" class=\"dataframe\">\n",
       "  <thead>\n",
       "    <tr style=\"text-align: right;\">\n",
       "      <th></th>\n",
       "      <th>city</th>\n",
       "      <th>target</th>\n",
       "      <th>certId</th>\n",
       "      <th>count</th>\n",
       "      <th>certid_position_numb</th>\n",
       "      <th>position</th>\n",
       "      <th>province</th>\n",
       "    </tr>\n",
       "  </thead>\n",
       "  <tbody>\n",
       "    <tr>\n",
       "      <th>0</th>\n",
       "      <td>3101</td>\n",
       "      <td>0.002041</td>\n",
       "      <td>310105.671429</td>\n",
       "      <td>490</td>\n",
       "      <td>310100</td>\n",
       "      <td>上海市市辖区</td>\n",
       "      <td>31</td>\n",
       "    </tr>\n",
       "    <tr>\n",
       "      <th>1</th>\n",
       "      <td>3102</td>\n",
       "      <td>0.000000</td>\n",
       "      <td>310224.543478</td>\n",
       "      <td>276</td>\n",
       "      <td>310200</td>\n",
       "      <td>上海市县</td>\n",
       "      <td>31</td>\n",
       "    </tr>\n",
       "    <tr>\n",
       "      <th>2</th>\n",
       "      <td>3201</td>\n",
       "      <td>0.002688</td>\n",
       "      <td>320106.002688</td>\n",
       "      <td>372</td>\n",
       "      <td>320100</td>\n",
       "      <td>江苏省南京市</td>\n",
       "      <td>32</td>\n",
       "    </tr>\n",
       "    <tr>\n",
       "      <th>3</th>\n",
       "      <td>3202</td>\n",
       "      <td>0.005587</td>\n",
       "      <td>320223.256983</td>\n",
       "      <td>179</td>\n",
       "      <td>320200</td>\n",
       "      <td>江苏省无锡市</td>\n",
       "      <td>32</td>\n",
       "    </tr>\n",
       "    <tr>\n",
       "      <th>4</th>\n",
       "      <td>3301</td>\n",
       "      <td>0.001582</td>\n",
       "      <td>330137.955696</td>\n",
       "      <td>632</td>\n",
       "      <td>330100</td>\n",
       "      <td>浙江省杭州市</td>\n",
       "      <td>33</td>\n",
       "    </tr>\n",
       "  </tbody>\n",
       "</table>\n",
       "</div>"
      ],
      "text/plain": [
       "   city    target         certId  count certid_position_numb position province\n",
       "0  3101  0.002041  310105.671429    490               310100   上海市市辖区       31\n",
       "1  3102  0.000000  310224.543478    276               310200     上海市县       31\n",
       "2  3201  0.002688  320106.002688    372               320100   江苏省南京市       32\n",
       "3  3202  0.005587  320223.256983    179               320200   江苏省无锡市       32\n",
       "4  3301  0.001582  330137.955696    632               330100   浙江省杭州市       33"
      ]
     },
     "execution_count": 44,
     "metadata": {},
     "output_type": "execute_result"
    }
   ],
   "source": [
    "# 市的代码\n",
    "train_raw['city'] = list(map(lambda x: x[:4],train_raw['certId'].astype(str).values))\n",
    "test_raw['city'] = list(map(lambda x: x[:4],test_raw['certId'].astype(str).values))\n",
    "train_target_raw = pd.merge(train_raw,train_target, how='left', on=['id'])\n",
    "tp = train_target_raw[['city','target','certId']]\n",
    "tp = tp.sort_values(by='city')\n",
    "tp_ = tp.groupby('city').mean()\n",
    "tp_['count'] = tp.groupby('city').count()['target']\n",
    "tp_ = pd.merge(tp_,city_df,on='city',how='left')\n",
    "tp_.head()"
   ]
  },
  {
   "cell_type": "code",
   "execution_count": 67,
   "metadata": {},
   "outputs": [
    {
     "data": {
      "image/png": "[encoded data removed]",
      "text/plain": [
       "<Figure size 1440x144 with 1 Axes>"
      ]
     },
     "metadata": {
      "needs_background": "light"
     },
     "output_type": "display_data"
    },
    {
     "data": {
      "image/png": "[encoded data removed]",
      "text/plain": [
       "<Figure size 1440x144 with 1 Axes>"
      ]
     },
     "metadata": {
      "needs_background": "light"
     },
     "output_type": "display_data"
    }
   ],
   "source": [
    "tp_.index = tp_['city']\n",
    "fu.plot_bar(tp_[['position','target']],by_col='target',num=50,ascending_=0)\n",
    "fu.plot_bar(tp_[['position','count']],by_col='count',num=50,ascending_=0)"
   ]
  },
  {
   "cell_type": "code",
   "execution_count": 18,
   "metadata": {},
   "outputs": [],
   "source": [
    "# 省的代码test\n",
    "test_raw['province'] = list(map(lambda x: x[:2],test_raw['certId'].astype(str).values))\n",
    "test_raw['province'] = list(map(lambda x: x[:2],test_raw['certId'].astype(str).values))\n",
    "tp = test_raw[['province','certId']]\n",
    "tp = tp.sort_values(by='province')\n",
    "tp_ = tp.groupby('province').mean()\n",
    "tp_['count'] = tp.groupby('province').count()['certId']\n",
    "tp_ = pd.merge(tp_,province_df,on='province',how='left')\n",
    "tp_.index = tp_['position']\n",
    "fu.plot_bar(tp_[['position','count']],by_col='count',num=34,ascending_=0)"
   ]
  },
  {
   "cell_type": "markdown",
   "metadata": {},
   "source": [
    "### 通过xgb测试city的one_hot"
   ]
  },
  {
   "cell_type": "code",
   "execution_count": 61,
   "metadata": {},
   "outputs": [],
   "source": [
    "one_hot_city_train = pd.get_dummies(train_raw[['city']].astype(str))\n",
    "one_hot_city_train = pd.concat([train_target_raw['target'],one_hot_city_train],axis=1)\n",
    "column_use = list(one_hot_city_train.columns.values)\n",
    "column_use = [x for x in column_use if x not in ['target']]\n",
    "X_train = one_hot_city_train[column_use].copy()\n",
    "y_train = one_hot_city_train[\"target\"].copy()\n",
    "#X_test = test_raw[column_use]\n",
    "model,best_parameters,train_auc,test_auc = XG_boost_classifier_CV(X_train, y_train)"
   ]
  },
  {
   "cell_type": "code",
   "execution_count": 63,
   "metadata": {},
   "outputs": [
    {
     "data": {
      "image/png": "[encoded data removed]",
      "text/plain": [
       "<Figure size 1440x144 with 1 Axes>"
      ]
     },
     "metadata": {
      "needs_background": "light"
     },
     "output_type": "display_data"
    }
   ],
   "source": [
    "f_importance = pd.DataFrame()\n",
    "f_importance['f_importance'] = model.feature_importances_\n",
    "f_importance.index = X_train.columns\n",
    "f_importance.sort_values(by='f_importance',ascending=False,inplace=True)\n",
    "fu.plot_bar(f_importance,by_col='f_importance',num=80,)"
   ]
  },
  {
   "cell_type": "code",
   "execution_count": 70,
   "metadata": {},
   "outputs": [
    {
     "name": "stdout",
     "output_type": "stream",
     "text": [
      "high_importance_col: Index(['city_5502', 'city_8403', 'city_8230', 'city_6311', 'city_8223',\n",
      "       'city_7111', 'city_5101', 'city_3423', 'city_5213', 'city_6206',\n",
      "       'city_7130', 'city_5708', 'city_5625', 'city_6415', 'city_5624',\n",
      "       'city_7134', 'city_6526', 'city_3426', 'city_5504', 'city_4106',\n",
      "       'city_3301', 'city_6325', 'city_5212', 'city_3526', 'city_7226',\n",
      "       'city_6509', 'city_6309', 'city_5412', 'city_6451', 'city_6108',\n",
      "       'city_6521', 'city_6503', 'city_6522', 'city_7115', 'city_3403',\n",
      "       'city_6525', 'city_6405', 'city_4310', 'city_5408', 'city_5308'],\n",
      "      dtype='object')\n"
     ]
    }
   ],
   "source": [
    "# 0重要性的变量\n",
    "_0_importance_col = f_importance[f_importance['f_importance']==0].index#.tolist()\n",
    "high_importance_col = f_importance.iloc[:40].index\n",
    "print('high_importance_col:',high_importance_col)"
   ]
  },
  {
   "cell_type": "code",
   "execution_count": null,
   "metadata": {},
   "outputs": [],
   "source": []
  },
  {
   "cell_type": "code",
   "execution_count": 71,
   "metadata": {},
   "outputs": [
    {
     "name": "stdout",
     "output_type": "stream",
     "text": [
      "Training AUC: 0.5774\n",
      "Testing AUC: 0.5927\n"
     ]
    }
   ],
   "source": [
    "one_hot_province_train = pd.get_dummies(train_raw[['province']].astype(str))\n",
    "one_hot_province_train = pd.concat([train_target_raw['target'],one_hot_province_train],axis=1)\n",
    "column_use = list(one_hot_province_train.columns.values)\n",
    "column_use = [x for x in column_use if x not in ['target']]\n",
    "X_train = one_hot_province_train[column_use].copy()\n",
    "y_train = one_hot_province_train[\"target\"].copy()\n",
    "#X_test = test_raw[column_use]\n",
    "model,best_parameters,train_auc,test_auc = XG_boost_classifier_CV(X_train, y_train)"
   ]
  },
  {
   "cell_type": "code",
   "execution_count": 72,
   "metadata": {},
   "outputs": [
    {
     "data": {
      "image/png": "[encoded data removed]",
      "text/plain": [
       "<Figure size 1440x144 with 1 Axes>"
      ]
     },
     "metadata": {
      "needs_background": "light"
     },
     "output_type": "display_data"
    }
   ],
   "source": [
    "f_importance = pd.DataFrame()\n",
    "f_importance['f_importance'] = model.feature_importances_\n",
    "f_importance.index = X_train.columns\n",
    "f_importance.sort_values(by='f_importance',ascending=False,inplace=True)\n",
    "fu.plot_bar(f_importance,by_col='f_importance',num=80,)"
   ]
  },
  {
   "cell_type": "code",
   "execution_count": 73,
   "metadata": {},
   "outputs": [
    {
     "name": "stdout",
     "output_type": "stream",
     "text": [
      "high_importance_col: Index(['province_65', 'province_63', 'province_84', 'province_34',\n",
      "       'province_31', 'province_51', 'province_54', 'province_33',\n",
      "       'province_82', 'province_71', 'province_57', 'province_64',\n",
      "       'province_53', 'province_42', 'province_32', 'province_35',\n",
      "       'province_73', 'province_56', 'province_52', 'province_55',\n",
      "       'province_66', 'province_70', 'province_74', 'province_83',\n",
      "       'province_81', 'province_61', 'province_72', 'province_62',\n",
      "       'province_43', 'province_41', 'province_85'],\n",
      "      dtype='object')\n"
     ]
    }
   ],
   "source": [
    "# 0重要性的变量\n",
    "_0_importance_col = f_importance[f_importance['f_importance']==0].index#.tolist()\n",
    "high_importance_col = f_importance.iloc[:40].index\n",
    "print('high_importance_col:',high_importance_col)"
   ]
  },
  {
   "cell_type": "code",
   "execution_count": null,
   "metadata": {},
   "outputs": [],
   "source": []
  },
  {
   "cell_type": "code",
   "execution_count": null,
   "metadata": {},
   "outputs": [],
   "source": []
  },
  {
   "cell_type": "code",
   "execution_count": 19,
   "metadata": {},
   "outputs": [],
   "source": [
    "tp = train_raw[['certId','dist','residentAddr','ethnic']]\n",
    "tp.sort_values(by='dist',inplace=True)\n",
    "tp.index = range(tp.shape[0])\n",
    "\n",
    "tp_test = test_raw[['certId','dist','residentAddr','ethnic']]\n",
    "tp_test.sort_values(by='dist',inplace=True)\n",
    "tp_test.index = range(tp_test.shape[0])\n",
    "#tist = tp.hist(bins=500,figsize=(20,10))"
   ]
  },
  {
   "cell_type": "code",
   "execution_count": 20,
   "metadata": {},
   "outputs": [
    {
     "name": "stdout",
     "output_type": "stream",
     "text": [
      "train\n",
      "certId的unique个数4033\n",
      "dist的unique个数3738\n",
      "residentAddr的unique个数5288\n",
      "ethnic的unique个数49\n",
      "test\n",
      "certId的unique个数3328\n",
      "dist的unique个数2629\n",
      "residentAddr的unique个数2515\n",
      "ethnic的unique个数37\n"
     ]
    }
   ],
   "source": [
    "print('train')\n",
    "print(f'certId的unique个数{len(set(tp[\"certId\"].tolist()))}')\n",
    "print(f'dist的unique个数{len(set(tp[\"dist\"].tolist()))}')\n",
    "print(f'residentAddr的unique个数{len(set(tp[\"residentAddr\"].tolist()))}')\n",
    "print(f'ethnic的unique个数{len(set(tp[\"ethnic\"].tolist()))}')\n",
    "print('test')\n",
    "print(f'certId的unique个数{len(set(tp_test[\"certId\"].tolist()))}')\n",
    "print(f'dist的unique个数{len(set(tp_test[\"dist\"].tolist()))}')\n",
    "print(f'residentAddr的unique个数{len(set(tp_test[\"residentAddr\"].tolist()))}')\n",
    "print(f'ethnic的unique个数{len(set(tp_test[\"ethnic\"].tolist()))}')"
   ]
  },
  {
   "cell_type": "code",
   "execution_count": 21,
   "metadata": {},
   "outputs": [],
   "source": [
    "# train_raw.drop(index=train_raw[train_raw['dist']>900000].index,inplace=True)\n",
    "# test_raw.drop(index=test_raw[test_raw['dist']>900000].index,inplace=True)\n",
    "# train_raw.drop(index=train_raw[train_raw['residentAddr']>900000].index,inplace=True)\n",
    "# test_raw.drop(index=test_raw[test_raw['residentAddr']>900000].index,inplace=True)"
   ]
  },
  {
   "cell_type": "code",
   "execution_count": null,
   "metadata": {},
   "outputs": [],
   "source": [
    "col_ = 'residentAddr'\n",
    "tp.sort_values(by=col_,inplace=True)\n",
    "#tp.iloc[60000:60100:]"
   ]
  },
  {
   "cell_type": "code",
   "execution_count": 106,
   "metadata": {},
   "outputs": [
    {
     "data": {
      "image/png": "[encoded data removed]",
      "text/plain": [
       "<Figure size 2000x300 with 1 Axes>"
      ]
     },
     "metadata": {
      "needs_background": "light"
     },
     "output_type": "display_data"
    },
    {
     "data": {
      "image/png": "[encoded data removed]",
      "text/plain": [
       "<Figure size 2000x300 with 1 Axes>"
      ]
     },
     "metadata": {
      "needs_background": "light"
     },
     "output_type": "display_data"
    },
    {
     "data": {
      "image/png": "[encoded data removed]",
      "text/plain": [
       "<Figure size 2000x300 with 1 Axes>"
      ]
     },
     "metadata": {
      "needs_background": "light"
     },
     "output_type": "display_data"
    },
    {
     "data": {
      "image/png": "[encoded data removed]",
      "text/plain": [
       "<Figure size 2000x300 with 1 Axes>"
      ]
     },
     "metadata": {
      "needs_background": "light"
     },
     "output_type": "display_data"
    },
    {
     "data": {
      "image/png": "[encoded data removed]",
      "text/plain": [
       "<Figure size 2000x300 with 1 Axes>"
      ]
     },
     "metadata": {
      "needs_background": "light"
     },
     "output_type": "display_data"
    },
    {
     "data": {
      "image/png": "[encoded data removed]",
      "text/plain": [
       "<Figure size 2000x300 with 1 Axes>"
      ]
     },
     "metadata": {
      "needs_background": "light"
     },
     "output_type": "display_data"
    },
    {
     "data": {
      "image/png": "[encoded data removed]",
      "text/plain": [
       "<Figure size 2000x300 with 1 Axes>"
      ]
     },
     "metadata": {
      "needs_background": "light"
     },
     "output_type": "display_data"
    },
    {
     "data": {
      "image/png": "[encoded data removed]",
      "text/plain": [
       "<Figure size 2000x300 with 1 Axes>"
      ]
     },
     "metadata": {
      "needs_background": "light"
     },
     "output_type": "display_data"
    }
   ],
   "source": [
    "col_ = 'certId'\n",
    "tp.sort_values(by=col_,inplace=True)\n",
    "tp_test.sort_values(by=col_,inplace=True)\n",
    "fu.plot_line(tp,columns_=[col_],legend_=[col_],title_='')\n",
    "fu.plot_line(tp_test,columns_=[col_],legend_=[col_],title_='')\n",
    "col_ = 'dist'\n",
    "tp.sort_values(by=col_,inplace=True)\n",
    "tp_test.sort_values(by=col_,inplace=True)\n",
    "fu.plot_line(tp,columns_=[col_],legend_=[col_],title_='')\n",
    "fu.plot_line(tp_test,columns_=[col_],legend_=[col_],title_='')\n",
    "col_ = 'residentAddr'\n",
    "tp.sort_values(by=col_,inplace=True)\n",
    "tp_test.sort_values(by=col_,inplace=True)\n",
    "fu.plot_line(tp,columns_=[col_],legend_=[col_],title_='')\n",
    "fu.plot_line(tp_test,columns_=[col_],legend_=[col_],title_='')\n",
    "col_ = 'ethnic'\n",
    "tp.sort_values(by=col_,inplace=True)\n",
    "tp_test.sort_values(by=col_,inplace=True)\n",
    "fu.plot_line(tp,columns_=[col_],legend_=[col_],title_='')\n",
    "fu.plot_line(tp_test,columns_=[col_],legend_=[col_],title_='')"
   ]
  },
  {
   "cell_type": "code",
   "execution_count": null,
   "metadata": {},
   "outputs": [],
   "source": []
  },
  {
   "cell_type": "code",
   "execution_count": null,
   "metadata": {},
   "outputs": [],
   "source": []
  },
  {
   "cell_type": "markdown",
   "metadata": {},
   "source": [
    "### 教育"
   ]
  },
  {
   "cell_type": "code",
   "execution_count": null,
   "metadata": {},
   "outputs": [],
   "source": [
    "train_raw['edu_is_0'] = train_raw['edu']==0\n",
    "train_raw['edu_is_30'] = train_raw['edu']==30\n",
    "train_raw['edu_is_70'] = train_raw['edu']==70\n",
    "train_raw['highestEdu_is_30'] = train_raw['highestEdu']==30\n",
    "train_raw['highestEdu_is_40'] = train_raw['highestEdu']==40\n",
    "train_raw['highestEdu_is_70'] = train_raw['highestEdu']==70\n",
    "\n",
    "test_raw['edu_is_0'] = test_raw['edu']==0\n",
    "test_raw['edu_is_30'] = test_raw['edu']==30\n",
    "test_raw['edu_is_70'] = test_raw['edu']==70\n",
    "test_raw['highestEdu_is_30'] = test_raw['highestEdu']==30\n",
    "test_raw['highestEdu_is_40'] = test_raw['highestEdu']==40\n",
    "test_raw['highestEdu_is_70'] = test_raw['highestEdu']==70"
   ]
  },
  {
   "cell_type": "code",
   "execution_count": 14,
   "metadata": {},
   "outputs": [],
   "source": [
    "edu_code = pd.read_csv(os.path.join(data_path,'学历代码.csv'),engine='python',encoding='gbk',header=0)"
   ]
  },
  {
   "cell_type": "code",
   "execution_count": 15,
   "metadata": {},
   "outputs": [
    {
     "data": {
      "text/html": [
       "<div>\n",
       "<style scoped>\n",
       "    .dataframe tbody tr th:only-of-type {\n",
       "        vertical-align: middle;\n",
       "    }\n",
       "\n",
       "    .dataframe tbody tr th {\n",
       "        vertical-align: top;\n",
       "    }\n",
       "\n",
       "    .dataframe thead th {\n",
       "        text-align: right;\n",
       "    }\n",
       "</style>\n",
       "<table border=\"1\" class=\"dataframe\">\n",
       "  <thead>\n",
       "    <tr style=\"text-align: right;\">\n",
       "      <th></th>\n",
       "      <th>代码</th>\n",
       "      <th>学历</th>\n",
       "    </tr>\n",
       "  </thead>\n",
       "  <tbody>\n",
       "    <tr>\n",
       "      <th>0</th>\n",
       "      <td>10</td>\n",
       "      <td>研究生教育</td>\n",
       "    </tr>\n",
       "    <tr>\n",
       "      <th>1</th>\n",
       "      <td>20</td>\n",
       "      <td>大学本科</td>\n",
       "    </tr>\n",
       "    <tr>\n",
       "      <th>2</th>\n",
       "      <td>30</td>\n",
       "      <td>专科教育</td>\n",
       "    </tr>\n",
       "    <tr>\n",
       "      <th>3</th>\n",
       "      <td>40</td>\n",
       "      <td>中等职业教育</td>\n",
       "    </tr>\n",
       "    <tr>\n",
       "      <th>4</th>\n",
       "      <td>50</td>\n",
       "      <td>高中以下</td>\n",
       "    </tr>\n",
       "    <tr>\n",
       "      <th>5</th>\n",
       "      <td>60</td>\n",
       "      <td>普通高级中学教育</td>\n",
       "    </tr>\n",
       "    <tr>\n",
       "      <th>6</th>\n",
       "      <td>70</td>\n",
       "      <td>初级中学教育</td>\n",
       "    </tr>\n",
       "    <tr>\n",
       "      <th>7</th>\n",
       "      <td>80</td>\n",
       "      <td>小学教育</td>\n",
       "    </tr>\n",
       "    <tr>\n",
       "      <th>8</th>\n",
       "      <td>90</td>\n",
       "      <td>其他</td>\n",
       "    </tr>\n",
       "    <tr>\n",
       "      <th>9</th>\n",
       "      <td>99</td>\n",
       "      <td>其他</td>\n",
       "    </tr>\n",
       "    <tr>\n",
       "      <th>10</th>\n",
       "      <td>47</td>\n",
       "      <td>技工学校毕业</td>\n",
       "    </tr>\n",
       "  </tbody>\n",
       "</table>\n",
       "</div>"
      ],
      "text/plain": [
       "    代码        学历\n",
       "0   10     研究生教育\n",
       "1   20      大学本科\n",
       "2   30      专科教育\n",
       "3   40    中等职业教育\n",
       "4   50      高中以下\n",
       "5   60  普通高级中学教育\n",
       "6   70    初级中学教育\n",
       "7   80      小学教育\n",
       "8   90        其他\n",
       "9   99        其他\n",
       "10  47    技工学校毕业"
      ]
     },
     "execution_count": 15,
     "metadata": {},
     "output_type": "execute_result"
    }
   ],
   "source": [
    "edu_code"
   ]
  },
  {
   "cell_type": "code",
   "execution_count": 57,
   "metadata": {},
   "outputs": [],
   "source": [
    "train_raw['edu_bins'] = pd.cut(train_raw['edu'],bins=[-1000,-1,1,11,21,41,51,61,71,81,100],labels=['未知-999','未知0','研究生','大学生','中高专','高中以下','高中','初中','小学','其他99'])\n",
    "train_raw['highestEdu_bins'] = pd.cut(train_raw['highestEdu'],bins=[-1000,-1,1,11,21,41,51,61,71,81,100],labels=['未知-999','未知0','研究生','大学生','中高专','高中以下','高中','初中','小学','其他99'])"
   ]
  },
  {
   "cell_type": "code",
   "execution_count": 82,
   "metadata": {},
   "outputs": [
    {
     "data": {
      "text/html": [
       "<div>\n",
       "<style scoped>\n",
       "    .dataframe tbody tr th:only-of-type {\n",
       "        vertical-align: middle;\n",
       "    }\n",
       "\n",
       "    .dataframe tbody tr th {\n",
       "        vertical-align: top;\n",
       "    }\n",
       "\n",
       "    .dataframe thead th {\n",
       "        text-align: right;\n",
       "    }\n",
       "</style>\n",
       "<table border=\"1\" class=\"dataframe\">\n",
       "  <thead>\n",
       "    <tr style=\"text-align: right;\">\n",
       "      <th></th>\n",
       "      <th>target</th>\n",
       "    </tr>\n",
       "    <tr>\n",
       "      <th>highestEdu_bins</th>\n",
       "      <th></th>\n",
       "    </tr>\n",
       "  </thead>\n",
       "  <tbody>\n",
       "    <tr>\n",
       "      <th>未知-999</th>\n",
       "      <td>0.007532</td>\n",
       "    </tr>\n",
       "    <tr>\n",
       "      <th>研究生</th>\n",
       "      <td>0.000000</td>\n",
       "    </tr>\n",
       "    <tr>\n",
       "      <th>大学生</th>\n",
       "      <td>0.006944</td>\n",
       "    </tr>\n",
       "    <tr>\n",
       "      <th>中高专</th>\n",
       "      <td>0.014276</td>\n",
       "    </tr>\n",
       "    <tr>\n",
       "      <th>高中以下</th>\n",
       "      <td>0.000000</td>\n",
       "    </tr>\n",
       "    <tr>\n",
       "      <th>高中</th>\n",
       "      <td>0.000000</td>\n",
       "    </tr>\n",
       "    <tr>\n",
       "      <th>初中</th>\n",
       "      <td>0.014925</td>\n",
       "    </tr>\n",
       "    <tr>\n",
       "      <th>其他99</th>\n",
       "      <td>0.004991</td>\n",
       "    </tr>\n",
       "  </tbody>\n",
       "</table>\n",
       "</div>"
      ],
      "text/plain": [
       "                   target\n",
       "highestEdu_bins          \n",
       "未知-999           0.007532\n",
       "研究生              0.000000\n",
       "大学生              0.006944\n",
       "中高专              0.014276\n",
       "高中以下             0.000000\n",
       "高中               0.000000\n",
       "初中               0.014925\n",
       "其他99             0.004991"
      ]
     },
     "execution_count": 82,
     "metadata": {},
     "output_type": "execute_result"
    }
   ],
   "source": [
    "tp = train_target_raw[['edu_bins','highestEdu_bins','target']].groupby(['highestEdu_bins']).mean()\n",
    "tp.dropna()"
   ]
  },
  {
   "cell_type": "code",
   "execution_count": 83,
   "metadata": {},
   "outputs": [
    {
     "data": {
      "text/html": [
       "<div>\n",
       "<style scoped>\n",
       "    .dataframe tbody tr th:only-of-type {\n",
       "        vertical-align: middle;\n",
       "    }\n",
       "\n",
       "    .dataframe tbody tr th {\n",
       "        vertical-align: top;\n",
       "    }\n",
       "\n",
       "    .dataframe thead th {\n",
       "        text-align: right;\n",
       "    }\n",
       "</style>\n",
       "<table border=\"1\" class=\"dataframe\">\n",
       "  <thead>\n",
       "    <tr style=\"text-align: right;\">\n",
       "      <th></th>\n",
       "      <th>edu</th>\n",
       "      <th>target</th>\n",
       "    </tr>\n",
       "    <tr>\n",
       "      <th>highestEdu</th>\n",
       "      <th></th>\n",
       "      <th></th>\n",
       "    </tr>\n",
       "  </thead>\n",
       "  <tbody>\n",
       "    <tr>\n",
       "      <th>-999</th>\n",
       "      <td>0.212030</td>\n",
       "      <td>0.007532</td>\n",
       "    </tr>\n",
       "    <tr>\n",
       "      <th>10</th>\n",
       "      <td>4.827586</td>\n",
       "      <td>0.000000</td>\n",
       "    </tr>\n",
       "    <tr>\n",
       "      <th>20</th>\n",
       "      <td>9.236111</td>\n",
       "      <td>0.006944</td>\n",
       "    </tr>\n",
       "    <tr>\n",
       "      <th>30</th>\n",
       "      <td>14.689349</td>\n",
       "      <td>0.016272</td>\n",
       "    </tr>\n",
       "    <tr>\n",
       "      <th>40</th>\n",
       "      <td>19.144509</td>\n",
       "      <td>0.012717</td>\n",
       "    </tr>\n",
       "    <tr>\n",
       "      <th>50</th>\n",
       "      <td>47.000000</td>\n",
       "      <td>0.000000</td>\n",
       "    </tr>\n",
       "    <tr>\n",
       "      <th>60</th>\n",
       "      <td>45.000000</td>\n",
       "      <td>0.000000</td>\n",
       "    </tr>\n",
       "    <tr>\n",
       "      <th>70</th>\n",
       "      <td>32.388060</td>\n",
       "      <td>0.014925</td>\n",
       "    </tr>\n",
       "    <tr>\n",
       "      <th>99</th>\n",
       "      <td>0.327609</td>\n",
       "      <td>0.004991</td>\n",
       "    </tr>\n",
       "  </tbody>\n",
       "</table>\n",
       "</div>"
      ],
      "text/plain": [
       "                  edu    target\n",
       "highestEdu                     \n",
       "-999         0.212030  0.007532\n",
       " 10          4.827586  0.000000\n",
       " 20          9.236111  0.006944\n",
       " 30         14.689349  0.016272\n",
       " 40         19.144509  0.012717\n",
       " 50         47.000000  0.000000\n",
       " 60         45.000000  0.000000\n",
       " 70         32.388060  0.014925\n",
       " 99          0.327609  0.004991"
      ]
     },
     "execution_count": 83,
     "metadata": {},
     "output_type": "execute_result"
    }
   ],
   "source": [
    "tp = train_target_raw[['edu','highestEdu','target']].groupby(['highestEdu']).mean()\n",
    "tp.dropna()"
   ]
  },
  {
   "cell_type": "code",
   "execution_count": 42,
   "metadata": {},
   "outputs": [
    {
     "name": "stdout",
     "output_type": "stream",
     "text": [
      "[-999, 99, 70, 40, 30, 20, 10, 60, 50]\n",
      "[0, 70, 30, 40, 20, 10, 60, -999, 47]\n",
      "[-999, 30, 99, 70, 20, 40, 60, 10]\n",
      "[0, 30, 20, 40, 70, 60, 10, -999, 47]\n"
     ]
    }
   ],
   "source": [
    "print(train_target_raw['highestEdu'].unique().tolist())\n",
    "print(train_target_raw['edu'].unique().tolist())\n",
    "print(test_raw['highestEdu'].unique().tolist())\n",
    "print(test_raw['edu'].unique().tolist())"
   ]
  },
  {
   "cell_type": "code",
   "execution_count": 16,
   "metadata": {},
   "outputs": [],
   "source": [
    "# print(train_target_raw['edu'].value_counts())\n",
    "# print(test_raw['edu'].value_counts())\n",
    "# print(train_target_raw['highestEdu'].value_counts())\n",
    "# print(test_raw['highestEdu'].value_counts())"
   ]
  },
  {
   "cell_type": "code",
   "execution_count": 18,
   "metadata": {},
   "outputs": [],
   "source": [
    "tp = train_target_raw[['edu','highestEdu','target']]"
   ]
  },
  {
   "cell_type": "code",
   "execution_count": 20,
   "metadata": {},
   "outputs": [],
   "source": [
    "tp.sort_values('edu',inplace=True)"
   ]
  },
  {
   "cell_type": "code",
   "execution_count": 125,
   "metadata": {},
   "outputs": [
    {
     "data": {
      "image/png": "[encoded data removed]",
      "text/plain": [
       "<Figure size 1440x144 with 1 Axes>"
      ]
     },
     "metadata": {
      "needs_background": "light"
     },
     "output_type": "display_data"
    },
    {
     "data": {
      "image/png": "[encoded data removed]",
      "text/plain": [
       "<Figure size 1440x144 with 1 Axes>"
      ]
     },
     "metadata": {
      "needs_background": "light"
     },
     "output_type": "display_data"
    }
   ],
   "source": [
    "tp = train_target_raw['edu'].value_counts().to_frame()\n",
    "fu.plot_bar(tp,'edu',8,1)\n",
    "tp = test_raw['edu'].value_counts().to_frame()\n",
    "fu.plot_bar(tp,'edu',8,1)"
   ]
  },
  {
   "cell_type": "code",
   "execution_count": 129,
   "metadata": {},
   "outputs": [
    {
     "data": {
      "image/png": "[encoded data removed]",
      "text/plain": [
       "<Figure size 1440x144 with 1 Axes>"
      ]
     },
     "metadata": {
      "needs_background": "light"
     },
     "output_type": "display_data"
    },
    {
     "data": {
      "image/png": "[encoded data removed]",
      "text/plain": [
       "<Figure size 1440x144 with 1 Axes>"
      ]
     },
     "metadata": {
      "needs_background": "light"
     },
     "output_type": "display_data"
    }
   ],
   "source": [
    "tp = train_target_raw['highestEdu'].value_counts().to_frame()\n",
    "fu.plot_bar(tp,'highestEdu',8,1)\n",
    "tp = test_raw['highestEdu'].value_counts().to_frame()\n",
    "fu.plot_bar(tp,'highestEdu',7,1)"
   ]
  },
  {
   "cell_type": "code",
   "execution_count": 14,
   "metadata": {},
   "outputs": [],
   "source": [
    "train_raw.loc[:,'edu'][train_raw.loc[:,'edu']==0] = np.nan\n",
    "train_raw.loc[:,'highestEdu'][train_raw.loc[:,'highestEdu']==99] = np.nan\n",
    "test_raw.loc[:,'edu'][train_raw.loc[:,'edu']==0] = np.nan\n",
    "test_raw.loc[:,'highestEdu'][train_raw.loc[:,'highestEdu']==99] = np.nan"
   ]
  },
  {
   "cell_type": "code",
   "execution_count": null,
   "metadata": {},
   "outputs": [],
   "source": []
  },
  {
   "cell_type": "code",
   "execution_count": null,
   "metadata": {},
   "outputs": [],
   "source": []
  },
  {
   "cell_type": "code",
   "execution_count": null,
   "metadata": {},
   "outputs": [],
   "source": []
  },
  {
   "cell_type": "markdown",
   "metadata": {},
   "source": [
    "### 证件、地区、居住地、银行卡"
   ]
  },
  {
   "cell_type": "markdown",
   "metadata": {},
   "source": [
    "身份证：六位数字地址码，八位数字出生日期码，三位数字顺序码和一位数字校验码。中华人民共和国 居民身份证是国家法定的证明公民个人身份的有效证件。 "
   ]
  },
  {
   "cell_type": "code",
   "execution_count": null,
   "metadata": {},
   "outputs": [],
   "source": [
    "tp = train_raw[['certId','dist','residentAddr','bankCard']]\n",
    "# tp['d_cd'] = tp['certId'] - tp['dist']\n",
    "# tp['d_cr'] = tp['certId'] - tp['residentAddr']\n",
    "# tp['d_dr'] = tp['dist'] - tp['residentAddr']\n",
    "# tp['d_cr_'] = (tp['d_cr'] == 0).astype(int)\n",
    "# tp.loc[:,'d_cr_'][tp.loc[:,'d_cr_']==300000] = 2\n",
    "#tp[pd.isnull(tp)]=0\n",
    "#tp[tp==0]=np.nan\n",
    "#tp[tp==99]=np.nan\n",
    "tp.sort_values(by='dist',inplace=True)\n",
    "tp.index = range(tp.shape[0])\n",
    "#tist = tp.hist(bins=500,figsize=(20,10))"
   ]
  },
  {
   "cell_type": "code",
   "execution_count": 4,
   "metadata": {},
   "outputs": [
    {
     "name": "stdout",
     "output_type": "stream",
     "text": [
      "bankCard的unique个数26143\n"
     ]
    }
   ],
   "source": [
    "print(f'bankCard的unique个数{len(set(tp[\"bankCard\"].tolist()))}')"
   ]
  },
  {
   "cell_type": "code",
   "execution_count": 310,
   "metadata": {},
   "outputs": [
    {
     "name": "stdout",
     "output_type": "stream",
     "text": [
      "certId的unique个数4033\n",
      "dist的unique个数3738\n",
      "residentAddr的unique个数60030\n"
     ]
    }
   ],
   "source": [
    "print(f'certId的unique个数{len(set(tp[\"certId\"].tolist()))}')\n",
    "print(f'dist的unique个数{len(set(tp[\"dist\"].tolist()))}')\n",
    "print(f'residentAddr的unique个数{len(set(tp[\"residentAddr\"].tolist()))}')"
   ]
  },
  {
   "cell_type": "code",
   "execution_count": 147,
   "metadata": {},
   "outputs": [
    {
     "name": "stdout",
     "output_type": "stream",
     "text": [
      "d_cd的unique个数9023\n",
      "d_cr的unique个数69268\n",
      "d_dr的unique个数60232\n"
     ]
    }
   ],
   "source": [
    "print(f'd_cd的unique个数{len(set(tp[\"d_cd\"].tolist()))}')\n",
    "print(f'd_cr的unique个数{len(set(tp[\"d_cr\"].tolist()))}')\n",
    "print(f'd_dr的unique个数{len(set(tp[\"d_dr\"].tolist()))}')"
   ]
  },
  {
   "cell_type": "code",
   "execution_count": 16,
   "metadata": {},
   "outputs": [],
   "source": [
    "train_raw['d_cd'] = (tp['d_cd'] == 0).astype(int)\n",
    "train_raw['d_cr'] = tp['d_cr_']"
   ]
  },
  {
   "cell_type": "code",
   "execution_count": 17,
   "metadata": {},
   "outputs": [],
   "source": [
    "tp = test_raw[['certId','dist','residentAddr']]\n",
    "tp['d_cd'] = tp['certId'] - tp['dist']\n",
    "tp['d_cr'] = tp['certId'] - tp['residentAddr']\n",
    "tp['d_dr'] = tp['dist'] - tp['residentAddr']\n",
    "tp['d_cr_'] = (tp['d_cr'] == 0).astype(int)\n",
    "tp.loc[:,'d_cr_'][tp.loc[:,'d_cr_']==300000] = 2\n",
    "\n",
    "test_raw['d_cd'] = (tp['d_cd'] == 0).astype(int)\n",
    "test_raw['d_cr'] = tp['d_cr_']"
   ]
  },
  {
   "cell_type": "code",
   "execution_count": 18,
   "metadata": {},
   "outputs": [],
   "source": [
    "train_raw.drop(['certId','dist','residentAddr'],axis=1,inplace=True)\n",
    "test_raw.drop(['certId','dist','residentAddr'],axis=1,inplace=True)"
   ]
  },
  {
   "cell_type": "markdown",
   "metadata": {},
   "source": [
    "### 证件时间"
   ]
  },
  {
   "cell_type": "markdown",
   "metadata": {},
   "source": [
    "1、16岁以下的，发给有效期为5年的居民身份证；\n",
    "\n",
    "2、16周岁至25周岁的，发给有效期为10年的居民身份证；\n",
    "\n",
    "3、26周岁至45周岁的，发给有效期为20年的居民身份证；\n",
    "\n",
    "4、46周岁以上的，发给长期有效的居民身份证。证件有效期限从签发之日起计算。"
   ]
  },
  {
   "cell_type": "markdown",
   "metadata": {},
   "source": [
    "#### 公民身份号码是特征组合码，由十七位数字本体码和一位数字校验码组成。  \n",
    "排列顺序从左至右依次为：\n",
    "1. 六位数字地址码(地区行政代码)  \n",
    "- 八位数字出生日期码  \n",
    "- 三位数字顺序码和  \n",
    "    1. 表示在同一地址码所标识的区域范围内，对同年、同月、同日出生的人编定的顺序号\n",
    "    2. 顺序码的奇数分配给男性，偶数分配给女性。\n",
    "- 一位数字校验码"
   ]
  },
  {
   "cell_type": "code",
   "execution_count": null,
   "metadata": {},
   "outputs": [],
   "source": [
    "#time.gmtime(train_raw['certValidStop'][15]-train_raw['certValidBegin'][15])\n",
    "tp = train_raw[['certValidBegin','certValidStop','age']]\n",
    "tp['d_certv'] = tp['certValidStop'] - tp['certValidBegin']\n",
    "tp['begin_year'] = np.array([time.gmtime(i).tm_year for i in tp['certValidBegin'].tolist()]).astype(float)\n",
    "tp_list = []\n",
    "for i in tp['certValidStop'].tolist():\n",
    "    try:\n",
    "        tp_ = time.gmtime(i).tm_year\n",
    "        tp_list.append(tp_)\n",
    "    except:\n",
    "        tp_list.append(np.nan)\n",
    "tp['stop_year'] = np.array(tp_list).astype(float)\n",
    "#tp['stop_year'] = [time.gmtime(i) for i in tp['certValidStop'].tolist()]\n",
    "tp['cert_gap'] = tp['stop_year'] - tp['begin_year']\n",
    "tp[tp > 25000000000000] = np.nan\n",
    "tp.sort_values(by='certValidBegin',inplace=True)\n",
    "tp.index = range(tp.shape[0])\n",
    "#tist = tp.hist(bins=500,figsize=(20,10))"
   ]
  },
  {
   "cell_type": "code",
   "execution_count": 26,
   "metadata": {},
   "outputs": [],
   "source": [
    "train_raw['begin_year'] = tp['begin_year']\n",
    "train_raw['stop_year'] = tp['stop_year']\n",
    "train_raw['cert_gap'] = tp['cert_gap']"
   ]
  },
  {
   "cell_type": "code",
   "execution_count": null,
   "metadata": {},
   "outputs": [],
   "source": [
    "tp = test_raw[['certValidBegin','certValidStop','age']]\n",
    "tp['d_certv'] = tp['certValidStop'] - tp['certValidBegin']\n",
    "tp['begin_year'] = np.array([time.gmtime(i).tm_year for i in tp['certValidBegin'].tolist()]).astype(float)\n",
    "tp_list = []\n",
    "for i in tp['certValidStop'].tolist():\n",
    "    try:\n",
    "        tp_ = time.gmtime(i).tm_year\n",
    "        tp_list.append(tp_)\n",
    "    except:\n",
    "        tp_list.append(np.nan)\n",
    "tp['stop_year'] = np.array(tp_list).astype(float)\n",
    "#tp['stop_year'] = [time.gmtime(i) for i in tp['certValidStop'].tolist()]\n",
    "tp['cert_gap'] = tp['stop_year'] - tp['begin_year']\n",
    "\n",
    "test_raw['begin_year'] = tp['begin_year']\n",
    "test_raw['stop_year'] = tp['stop_year']\n",
    "test_raw['cert_gap'] = tp['cert_gap']"
   ]
  },
  {
   "cell_type": "code",
   "execution_count": 22,
   "metadata": {},
   "outputs": [],
   "source": [
    "train_raw.drop(['certValidBegin','certValidStop'],axis=1,inplace=True)\n",
    "test_raw.drop(['certValidBegin','certValidStop',],axis=1,inplace=True)"
   ]
  },
  {
   "cell_type": "markdown",
   "metadata": {},
   "source": [
    "### Job  \n",
    "test的job没有11,13,16  \n",
    "train没有9,14\n",
    "进行one-hot"
   ]
  },
  {
   "cell_type": "code",
   "execution_count": 136,
   "metadata": {},
   "outputs": [],
   "source": [
    "train_raw = pd.concat([train_raw,pd.get_dummies(train_raw[['job']].astype(str))],axis=1)\n",
    "train_raw.drop(columns=['job'],inplace=True)\n",
    "test_raw = pd.concat([test_raw,pd.get_dummies(test_raw[['job']].astype(str))],axis=1)\n",
    "test_raw.drop(columns=['job'],inplace=True)"
   ]
  },
  {
   "cell_type": "code",
   "execution_count": 137,
   "metadata": {},
   "outputs": [],
   "source": [
    "train_raw['job_9'] = 0\n",
    "train_raw['job_14'] = 0\n",
    "test_raw['job_11'] = 0\n",
    "test_raw['job_13'] = 0\n",
    "test_raw['job_16'] = 0"
   ]
  },
  {
   "cell_type": "markdown",
   "metadata": {},
   "source": [
    "train_raw.drop(columns=['job_11','job_13','job_16'],inplace=True)\n",
    "test_raw.drop(columns=['job_9','job_14'],inplace=True)"
   ]
  },
  {
   "cell_type": "markdown",
   "metadata": {},
   "source": [
    "### 授信金额、产品类型、基础评级、未偿还个人贷款、是否有还在使用的信用卡、未偿还的正常贷款、5年的坏账、其他为偿还贷款  \n",
    "- unpayOtherLoan:\n",
    "- lmt,loanProduct是原始数据得分最高的特征\n",
    "    - loanProduct分为1,2,3,每一层target=1的lmt均值都与当层有差别"
   ]
  },
  {
   "cell_type": "code",
   "execution_count": 28,
   "metadata": {},
   "outputs": [],
   "source": [
    "#test_raw.loc[:,'unpayOtherLoan'][pd.isnull(test_raw['unpayOtherLoan'])==1] = -999\n",
    "# 信用变量有几个是1\n",
    "train_raw['loan_sum'] = (train_raw[['unpayIndvLoan','unpayNormalLoan', '5yearBadloan','unpayOtherLoan']]==1).sum(axis=1)\n",
    "test_raw['loan_sum'] = (test_raw[['unpayIndvLoan','unpayNormalLoan', '5yearBadloan','unpayOtherLoan']]==1).sum(axis=1)\n",
    "# 信用变量变量有几个是nan(-999)\n",
    "train_raw['loan_nan_num'] = np.array((train_raw[['unpayIndvLoan','unpayNormalLoan', '5yearBadloan','unpayOtherLoan']]<0).sum(axis=1)) + np.array((pd.isnull(train_raw[['unpayIndvLoan','unpayNormalLoan', '5yearBadloan','unpayOtherLoan']])==1).sum(axis=1))\n",
    "test_raw['loan_nan_num'] = np.array((test_raw[['unpayIndvLoan','unpayNormalLoan', '5yearBadloan','unpayOtherLoan']]<0).sum(axis=1)) + np.array((pd.isnull(test_raw[['unpayIndvLoan','unpayNormalLoan', '5yearBadloan','unpayOtherLoan']])==1).sum(axis=1))"
   ]
  },
  {
   "cell_type": "code",
   "execution_count": 33,
   "metadata": {},
   "outputs": [
    {
     "data": {
      "text/plain": [
       "unpayIndvLoan       18456.0\n",
       "unpayNormalLoan     20113.0\n",
       "5yearBadloan          312.0\n",
       "unpayOtherLoan     114907.0\n",
       "dtype: float64"
      ]
     },
     "execution_count": 33,
     "metadata": {},
     "output_type": "execute_result"
    }
   ],
   "source": [
    "tmp[['unpayIndvLoan','unpayNormalLoan', '5yearBadloan','unpayOtherLoan',]].sum()"
   ]
  },
  {
   "cell_type": "code",
   "execution_count": 46,
   "metadata": {},
   "outputs": [
    {
     "data": {
      "text/html": [
       "<div>\n",
       "<style scoped>\n",
       "    .dataframe tbody tr th:only-of-type {\n",
       "        vertical-align: middle;\n",
       "    }\n",
       "\n",
       "    .dataframe tbody tr th {\n",
       "        vertical-align: top;\n",
       "    }\n",
       "\n",
       "    .dataframe thead th {\n",
       "        text-align: right;\n",
       "    }\n",
       "</style>\n",
       "<table border=\"1\" class=\"dataframe\">\n",
       "  <thead>\n",
       "    <tr style=\"text-align: right;\">\n",
       "      <th></th>\n",
       "      <th>target</th>\n",
       "      <th>lmt</th>\n",
       "      <th>loanProduct</th>\n",
       "      <th>basicLevel</th>\n",
       "      <th>unpayIndvLoan</th>\n",
       "      <th>ncloseCreditCard</th>\n",
       "      <th>unpayNormalLoan</th>\n",
       "      <th>5yearBadloan</th>\n",
       "      <th>unpayOtherLoan</th>\n",
       "      <th>loan_num</th>\n",
       "    </tr>\n",
       "  </thead>\n",
       "  <tbody>\n",
       "    <tr>\n",
       "      <th>25936</th>\n",
       "      <td>1</td>\n",
       "      <td>4.733</td>\n",
       "      <td>2</td>\n",
       "      <td>3.0</td>\n",
       "      <td>1.0</td>\n",
       "      <td>1.0</td>\n",
       "      <td>1.0</td>\n",
       "      <td>0</td>\n",
       "      <td>1.0</td>\n",
       "      <td>3.0</td>\n",
       "    </tr>\n",
       "    <tr>\n",
       "      <th>25853</th>\n",
       "      <td>1</td>\n",
       "      <td>6.467</td>\n",
       "      <td>2</td>\n",
       "      <td>1.0</td>\n",
       "      <td>1.0</td>\n",
       "      <td>1.0</td>\n",
       "      <td>1.0</td>\n",
       "      <td>0</td>\n",
       "      <td>1.0</td>\n",
       "      <td>3.0</td>\n",
       "    </tr>\n",
       "    <tr>\n",
       "      <th>94606</th>\n",
       "      <td>1</td>\n",
       "      <td>14.963</td>\n",
       "      <td>1</td>\n",
       "      <td>1.0</td>\n",
       "      <td>1.0</td>\n",
       "      <td>1.0</td>\n",
       "      <td>1.0</td>\n",
       "      <td>0</td>\n",
       "      <td>1.0</td>\n",
       "      <td>3.0</td>\n",
       "    </tr>\n",
       "    <tr>\n",
       "      <th>94622</th>\n",
       "      <td>1</td>\n",
       "      <td>10.630</td>\n",
       "      <td>1</td>\n",
       "      <td>1.0</td>\n",
       "      <td>1.0</td>\n",
       "      <td>1.0</td>\n",
       "      <td>1.0</td>\n",
       "      <td>0</td>\n",
       "      <td>1.0</td>\n",
       "      <td>3.0</td>\n",
       "    </tr>\n",
       "    <tr>\n",
       "      <th>94623</th>\n",
       "      <td>1</td>\n",
       "      <td>10.296</td>\n",
       "      <td>1</td>\n",
       "      <td>1.0</td>\n",
       "      <td>1.0</td>\n",
       "      <td>1.0</td>\n",
       "      <td>1.0</td>\n",
       "      <td>0</td>\n",
       "      <td>1.0</td>\n",
       "      <td>3.0</td>\n",
       "    </tr>\n",
       "  </tbody>\n",
       "</table>\n",
       "</div>"
      ],
      "text/plain": [
       "       target     lmt  loanProduct  basicLevel  unpayIndvLoan  \\\n",
       "25936       1   4.733            2         3.0            1.0   \n",
       "25853       1   6.467            2         1.0            1.0   \n",
       "94606       1  14.963            1         1.0            1.0   \n",
       "94622       1  10.630            1         1.0            1.0   \n",
       "94623       1  10.296            1         1.0            1.0   \n",
       "\n",
       "       ncloseCreditCard  unpayNormalLoan  5yearBadloan  unpayOtherLoan  \\\n",
       "25936               1.0              1.0             0             1.0   \n",
       "25853               1.0              1.0             0             1.0   \n",
       "94606               1.0              1.0             0             1.0   \n",
       "94622               1.0              1.0             0             1.0   \n",
       "94623               1.0              1.0             0             1.0   \n",
       "\n",
       "       loan_num  \n",
       "25936       3.0  \n",
       "25853       3.0  \n",
       "94606       3.0  \n",
       "94622       3.0  \n",
       "94623       3.0  "
      ]
     },
     "execution_count": 46,
     "metadata": {},
     "output_type": "execute_result"
    }
   ],
   "source": [
    "tmp.sort_values(by=['target','loan_num','basicLevel','loanProduct','lmt'],ascending=False,inplace=True)\n",
    "tmp.head()"
   ]
  },
  {
   "cell_type": "code",
   "execution_count": 273,
   "metadata": {},
   "outputs": [],
   "source": [
    "#tmp['lmt_lp'] = tmp['lmt'] / tmp['loanProduct']\n",
    "#tmp['lmt_x_lp'] = tmp['lmt']**4 * tmp['loanProduct']\n",
    "tmp = pd.concat([tmp,pd.get_dummies(tmp[['loanProduct']].astype(str))],axis=1)\n",
    "tmp.drop(['loanProduct'],axis=1,inplace=True)\n",
    "tmp.loc[:,'unpayOtherLoan'][tmp.loc[:,'unpayOtherLoan']<0] = 2\n",
    "tmp = pd.concat([tmp,pd.get_dummies(tmp[['unpayOtherLoan']].astype(str))],axis=1)\n",
    "tmp.drop(['unpayOtherLoan'],axis=1,inplace=True)"
   ]
  },
  {
   "cell_type": "code",
   "execution_count": 288,
   "metadata": {},
   "outputs": [
    {
     "name": "stdout",
     "output_type": "stream",
     "text": [
      "0.73\n",
      "1.22\n",
      "0.5700000000000001\n",
      "0.44\n"
     ]
    }
   ],
   "source": [
    "print(tmp.mean()['target'].round(4)*100)\n",
    "print(tmp[tmp['loanProduct']==1].mean()['target'].round(4)*100)\n",
    "print(tmp[tmp['loanProduct']==2].mean()['target'].round(4)*100)\n",
    "print(tmp[tmp['loanProduct']==3].mean()['target'].round(4)*100)"
   ]
  },
  {
   "cell_type": "code",
   "execution_count": 311,
   "metadata": {},
   "outputs": [
    {
     "name": "stdout",
     "output_type": "stream",
     "text": [
      "7.1562\n",
      "5.5715\n",
      "5.5031\n"
     ]
    }
   ],
   "source": [
    "print(tmp[tmp['loanProduct']==1].mean()['lmt'].round(4))\n",
    "print(tmp[tmp['loanProduct']==2].mean()['lmt'].round(4))\n",
    "print(tmp[tmp['loanProduct']==3].mean()['lmt'].round(4))"
   ]
  },
  {
   "cell_type": "code",
   "execution_count": 312,
   "metadata": {},
   "outputs": [
    {
     "name": "stdout",
     "output_type": "stream",
     "text": [
      "4.1444\n",
      "4.4765\n",
      "3.2631\n"
     ]
    }
   ],
   "source": [
    "print(tmp[tmp['loanProduct']==1][tmp['target']==1].mean()['lmt'].round(4))\n",
    "print(tmp[tmp['loanProduct']==2][tmp['target']==1].mean()['lmt'].round(4))\n",
    "print(tmp[tmp['loanProduct']==3][tmp['target']==1].mean()['lmt'].round(4))"
   ]
  },
  {
   "cell_type": "code",
   "execution_count": 352,
   "metadata": {},
   "outputs": [],
   "source": [
    "#plot_line(tmp,columns_=['unpayOtherLoan'],legend_=['target','lmt','loanProduct'],title_='')"
   ]
  },
  {
   "cell_type": "code",
   "execution_count": 353,
   "metadata": {},
   "outputs": [],
   "source": [
    "#plot_line(tmp,columns_=['lmt'],legend_=['target','lmt','loanProduct'],title_='')"
   ]
  },
  {
   "cell_type": "code",
   "execution_count": 5,
   "metadata": {},
   "outputs": [],
   "source": [
    "train_raw = pd.concat([train_raw,pd.get_dummies(train_raw[['loanProduct']].astype(str))],axis=1)\n",
    "train_raw.drop(['loanProduct'],axis=1,inplace=True)\n",
    "train_raw.loc[:,'unpayOtherLoan'][train_raw.loc[:,'unpayOtherLoan']<0] = np.nan\n",
    "train_raw = pd.concat([train_raw,pd.get_dummies(train_raw[['unpayOtherLoan']].astype(str))],axis=1)\n",
    "train_raw.drop(['unpayOtherLoan'],axis=1,inplace=True)\n",
    "\n",
    "test_raw = pd.concat([test_raw,pd.get_dummies(test_raw[['loanProduct']].astype(str))],axis=1)\n",
    "test_raw.drop(['loanProduct'],axis=1,inplace=True)\n",
    "test_raw.loc[:,'unpayOtherLoan'][test_raw.loc[:,'unpayOtherLoan']<0] = np.nan\n",
    "test_raw = pd.concat([test_raw,pd.get_dummies(test_raw[['unpayOtherLoan']].astype(str))],axis=1)\n",
    "test_raw.drop(['unpayOtherLoan'],axis=1,inplace=True)"
   ]
  },
  {
   "cell_type": "code",
   "execution_count": 6,
   "metadata": {},
   "outputs": [
    {
     "data": {
      "text/plain": [
       "(23561, 108)"
      ]
     },
     "execution_count": 6,
     "metadata": {},
     "output_type": "execute_result"
    }
   ],
   "source": [
    "test_raw.shape"
   ]
  },
  {
   "cell_type": "code",
   "execution_count": 7,
   "metadata": {},
   "outputs": [
    {
     "data": {
      "text/plain": [
       "(132029, 109)"
      ]
     },
     "execution_count": 7,
     "metadata": {},
     "output_type": "execute_result"
    }
   ],
   "source": [
    "train_raw.shape"
   ]
  },
  {
   "cell_type": "code",
   "execution_count": null,
   "metadata": {},
   "outputs": [],
   "source": [
    "train_raw['lmt_lp'] = train_raw['lmt'] / train_raw['loanProduct']\n",
    "train_raw['lmt_x_lp'] = train_raw['lmt'] * train_raw['loanProduct']\n",
    "test_raw['lmt_lp'] = test_raw['lmt'] / test_raw['loanProduct']\n",
    "test_raw['lmt_x_lp'] = test_raw['lmt'] * test_raw['loanProduct']"
   ]
  },
  {
   "cell_type": "markdown",
   "metadata": {},
   "source": [
    "### 年龄"
   ]
  },
  {
   "cell_type": "code",
   "execution_count": 50,
   "metadata": {},
   "outputs": [],
   "source": [
    "tmp = train_raw[['target','age']]\n",
    "tmp.sort_values(by=['target','age'],ascending=False,inplace=True)\n",
    "tmp.index = range(tmp.shape[0])\n",
    "#hist = tmp.hist(bins=10,figsize=(10,10))\n",
    "#bins_age = [17,22,27,32,37,42,47,52,57,62,67,72,77,82,90,120]\n",
    "bins_age = range(17,118,1)\n",
    "tmp['age_cut'] = pd.cut(tmp['age'], bins_age).to_frame()\n",
    "\n",
    "#tmp.sort_values(by=['age','target'],ascending=False,inplace=True)\n",
    "tmp['age_cut_'] = pd.factorize(tmp['age_cut'])[0]\n",
    "#pd.value_counts(tmp['age_cut'])"
   ]
  },
  {
   "cell_type": "code",
   "execution_count": 52,
   "metadata": {},
   "outputs": [
    {
     "name": "stdout",
     "output_type": "stream",
     "text": [
      "age_bin=0,1,0.0172\n",
      "age_bin=1,1,0.012\n",
      "age_bin=2,2,0.0074\n",
      "age_bin=3,6,0.0084\n",
      "age_bin=4,7,0.0082\n",
      "age_bin=5,11,0.0112\n",
      "age_bin=6,10,0.0086\n",
      "age_bin=7,10,0.0082\n",
      "age_bin=8,16,0.0121\n",
      "age_bin=9,7,0.0052\n",
      "age_bin=10,12,0.0077\n",
      "age_bin=11,11,0.0067\n",
      "age_bin=12,11,0.0058\n",
      "age_bin=13,17,0.0075\n",
      "age_bin=14,11,0.0045\n",
      "age_bin=15,17,0.0061\n",
      "age_bin=16,23,0.0059\n",
      "age_bin=17,23,0.0059\n",
      "age_bin=18,25,0.006\n",
      "age_bin=19,37,0.0075\n"
     ]
    }
   ],
   "source": [
    "for i in range(20):\n",
    "    t = tmp[tmp['age_cut_']==i]\n",
    "    tt = tmp[(tmp['age_cut_']==i)*(tmp['target']==1)]\n",
    "    print(f\"age_bin={i},{tt.count()['target']},{t.mean()['target'].round(4)}\")"
   ]
  },
  {
   "cell_type": "code",
   "execution_count": 66,
   "metadata": {},
   "outputs": [],
   "source": [
    "tmp = test_raw['age'].to_frame()\n",
    "bins_age = range(17,118,1)\n",
    "tmp['age_cut'] = pd.cut(tmp['age'],bins_age).to_frame()\n",
    "tmp['age_cut_'] = pd.factorize(tmp['age_cut'])[0]"
   ]
  },
  {
   "cell_type": "markdown",
   "metadata": {},
   "source": [
    "### isNew  \n",
    "1代表新数据，新数据有更多的违约，即在时间序列上有差异"
   ]
  },
  {
   "cell_type": "code",
   "execution_count": 79,
   "metadata": {},
   "outputs": [
    {
     "name": "stdout",
     "output_type": "stream",
     "text": [
      "0.006223573566440211\n",
      "0.009094140028850376\n"
     ]
    }
   ],
   "source": [
    "print(train_raw[train_raw['isNew']==0]['target'].mean())\n",
    "print(train_raw[train_raw['isNew']==1]['target'].mean())"
   ]
  },
  {
   "cell_type": "code",
   "execution_count": null,
   "metadata": {},
   "outputs": [],
   "source": []
  },
  {
   "cell_type": "code",
   "execution_count": 142,
   "metadata": {},
   "outputs": [],
   "source": [
    "def plot_line(dataframe_,columns_=['je'],legend_=['金额'],title_=''):\n",
    "    df_tmp = dataframe_.copy()\n",
    "    '''\n",
    "    dataframe_ : pandas的dataframe\n",
    "    columns_   : 需要画图的列，list格式\n",
    "    legend_    : 需要画图的列明，即图例，list格式\n",
    "    title_     ：图的名称，保存在本地需要此命名\n",
    "    '''\n",
    "    # 背景\n",
    "    #fig=plt.figure(figsize=(6.4,4.8), dpi=100)  # 多图\n",
    "    #ax = fig.add_subplot(111) # mnx，m行n列第x个\n",
    "    fig,ax=plt.subplots(figsize=(20,3), dpi=100)\n",
    "    # x轴\n",
    "    # xlab = pd.to_datetime(list(map(str,df_tmp.index)))    \n",
    "    xlab = range(df_tmp.shape[0])\n",
    "    # x轴旋转\n",
    "    #plt.xticks(rotation=320)\n",
    "    marker_ = [',','*','.','+','x',]\n",
    "    linestyle_ = ['-','-.','--']\n",
    "    # 画线\n",
    "    for i,j in enumerate(columns_):\n",
    "        ax.plot(xlab,df_tmp[j],linestyle=linestyle_[i],marker=marker_[0],markersize='5',label=legend_[i]) # lw=3,marker='.'\n",
    "    # 标题\n",
    "    plt.title(title_,fontsize=10)\n",
    "    plt.tick_params(labelsize=10,axis='both')  # 刻度的大小\n",
    "    #plt.legend(prop={'size':15},loc='best')  # 图例\n",
    "    plt.legend(prop={'size':15},loc='upper left')  # 图例\n",
    "    #显示网格\n",
    "    ax.grid(True, linestyle='-.')\n",
    "    #ax.yaxis.grid(True, linestyle='-.')\n",
    "    plt.margins(0,0)\n",
    "    fig.savefig(f'{title_}.png',bbox_inches = 'tight')\n",
    "    plt.show()"
   ]
  },
  {
   "cell_type": "code",
   "execution_count": 269,
   "metadata": {},
   "outputs": [],
   "source": [
    "def plot_bar(df,by_col=0,num=10,ascending_=0):\n",
    "    # 画柱状图\n",
    "    df.sort_values(by=by_col,ascending=ascending_,inplace=True)\n",
    "    df = df.iloc[:num,:]\n",
    "    fig,ax = plt.subplots(figsize=(20,3))\n",
    "    plt.tick_params(labelsize=12,axis='both')  # 刻度的大小\n",
    "    plt.xticks(rotation=320)\n",
    "    df.plot.bar(ax=ax)\n",
    "    plt.show()"
   ]
  },
  {
   "cell_type": "code",
   "execution_count": null,
   "metadata": {},
   "outputs": [],
   "source": []
  }
 ],
 "metadata": {
  "kernelspec": {
   "display_name": "Python 3",
   "language": "python",
   "name": "python3"
  },
  "language_info": {
   "codemirror_mode": {
    "name": "ipython",
    "version": 3
   },
   "file_extension": ".py",
   "mimetype": "text/x-python",
   "name": "python",
   "nbconvert_exporter": "python",
   "pygments_lexer": "ipython3",
   "version": "3.7.1"
  }
 },
 "nbformat": 4,
 "nbformat_minor": 2
}
